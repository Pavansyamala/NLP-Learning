{
 "cells": [
  {
   "cell_type": "code",
   "execution_count": 1,
   "id": "42610f4a",
   "metadata": {},
   "outputs": [],
   "source": [
    "import pandas as pd\n",
    "import numpy as np\n"
   ]
  },
  {
   "cell_type": "code",
   "execution_count": 2,
   "id": "f5061183",
   "metadata": {},
   "outputs": [],
   "source": [
    "path  = \"C:\\\\Users\\\\PAVAN\\\\OneDrive\\\\Desktop\\\\GameofThrones\\\\got1.txt\\\\got1.txt\"\n",
    "path1 = \"C:\\\\Users\\\\PAVAN\\\\OneDrive\\\\Desktop\\\\GameofThrones\\\\got2.txt\\\\got2.txt\"\n",
    "path2 = \"C:\\\\Users\\\\PAVAN\\\\OneDrive\\\\Desktop\\\\GameofThrones\\\\got3.txt\\\\got3.txt\"\n",
    "path3 = \"C:\\\\Users\\\\PAVAN\\\\OneDrive\\\\Desktop\\\\GameofThrones\\\\got4.txt\\\\got4.txt\"\n",
    "path4 = \"C:\\\\Users\\\\PAVAN\\\\OneDrive\\\\Desktop\\\\GameofThrones\\\\got5.txt\\\\got5.txt\""
   ]
  },
  {
   "cell_type": "code",
   "execution_count": 6,
   "id": "6ce9c826",
   "metadata": {},
   "outputs": [],
   "source": [
    "import nltk\n",
    "from nltk.tokenize import word_tokenize , sent_tokenize\n",
    "import gensim \n",
    "from gensim.utils import simple_preprocess"
   ]
  },
  {
   "cell_type": "code",
   "execution_count": 26,
   "id": "2309cabd",
   "metadata": {},
   "outputs": [],
   "source": [
    "corpus = []\n",
    "for path in [path , path1 , path2 , path3 , path4] :\n",
    "    with open(path , encoding = 'utf-8') as file :\n",
    "#     print(file.read())\n",
    "        for i in sent_tokenize(file.read()) :\n",
    "            corpus.append(simple_preprocess(i))"
   ]
  },
  {
   "cell_type": "code",
   "execution_count": 29,
   "id": "a7ab287d",
   "metadata": {},
   "outputs": [],
   "source": [
    "import gensim"
   ]
  },
  {
   "cell_type": "code",
   "execution_count": 30,
   "id": "71c44228",
   "metadata": {},
   "outputs": [],
   "source": [
    "from gensim.models import Word2Vec , KeyedVectors"
   ]
  },
  {
   "cell_type": "code",
   "execution_count": 31,
   "id": "189ed384",
   "metadata": {},
   "outputs": [],
   "source": [
    "WV = Word2Vec(vector_size=100 , window = 7)"
   ]
  },
  {
   "cell_type": "code",
   "execution_count": 33,
   "id": "61a1c047",
   "metadata": {},
   "outputs": [],
   "source": [
    "WV.build_vocab(corpus)"
   ]
  },
  {
   "cell_type": "code",
   "execution_count": 72,
   "id": "d96a4c32",
   "metadata": {},
   "outputs": [
    {
     "data": {
      "text/plain": [
       "(129956114, 172898600)"
      ]
     },
     "execution_count": 72,
     "metadata": {},
     "output_type": "execute_result"
    }
   ],
   "source": [
    "WV.train(corpus , total_examples=WV.corpus_count , epochs = 100)"
   ]
  },
  {
   "cell_type": "code",
   "execution_count": 73,
   "id": "d6f2be38",
   "metadata": {},
   "outputs": [
    {
     "data": {
      "text/plain": [
       "[('days', 0.7570754885673523),\n",
       " ('year', 0.6790803670883179),\n",
       " ('centuries', 0.5991790294647217),\n",
       " ('heartbeats', 0.5986868143081665),\n",
       " ('times', 0.5841493010520935),\n",
       " ('hours', 0.5522164106369019),\n",
       " ('ages', 0.5504093766212463),\n",
       " ('century', 0.5411126613616943),\n",
       " ('moments', 0.530144214630127),\n",
       " ('paces', 0.5221188068389893)]"
      ]
     },
     "execution_count": 73,
     "metadata": {},
     "output_type": "execute_result"
    }
   ],
   "source": [
    "WV.wv.most_similar('years')"
   ]
  },
  {
   "cell_type": "code",
   "execution_count": 60,
   "id": "afb9566f",
   "metadata": {},
   "outputs": [],
   "source": [
    "# WV.wv.get_vector('Human')"
   ]
  },
  {
   "cell_type": "code",
   "execution_count": 78,
   "id": "e1f0f31a",
   "metadata": {},
   "outputs": [],
   "source": [
    "from sklearn.decomposition import PCA"
   ]
  },
  {
   "cell_type": "code",
   "execution_count": 82,
   "id": "c95bbfba",
   "metadata": {},
   "outputs": [],
   "source": [
    "pc = PCA(n_components=3)"
   ]
  },
  {
   "cell_type": "code",
   "execution_count": 83,
   "id": "d0b74102",
   "metadata": {},
   "outputs": [],
   "source": [
    "arr = pc.fit_transform(WV.wv.get_normed_vectors())"
   ]
  },
  {
   "cell_type": "code",
   "execution_count": 85,
   "id": "31313d40",
   "metadata": {},
   "outputs": [],
   "source": [
    "keys = WV.wv.index_to_key"
   ]
  },
  {
   "cell_type": "code",
   "execution_count": 86,
   "id": "4d67fa56",
   "metadata": {},
   "outputs": [],
   "source": [
    "import plotly.express as px"
   ]
  },
  {
   "cell_type": "code",
   "execution_count": 97,
   "id": "014ece0e",
   "metadata": {},
   "outputs": [
    {
     "data": {
      "application/vnd.plotly.v1+json": {
       "config": {
        "plotlyServerURL": "https://plot.ly"
       },
       "data": [
        {
         "hovertemplate": "color=and<br>x=%{x}<br>y=%{y}<br>z=%{z}<extra></extra>",
         "legendgroup": "and",
         "marker": {
          "color": "#636efa",
          "symbol": "circle"
         },
         "mode": "markers",
         "name": "and",
         "scene": "scene",
         "showlegend": true,
         "type": "scatter3d",
         "x": [
          -0.37421032786369324
         ],
         "y": [
          0.03314909711480141
         ],
         "z": [
          0.12488871067762375
         ]
        },
        {
         "hovertemplate": "color=to<br>x=%{x}<br>y=%{y}<br>z=%{z}<extra></extra>",
         "legendgroup": "to",
         "marker": {
          "color": "#EF553B",
          "symbol": "circle"
         },
         "mode": "markers",
         "name": "to",
         "scene": "scene",
         "showlegend": true,
         "type": "scatter3d",
         "x": [
          0.28064069151878357
         ],
         "y": [
          -0.15670698881149292
         ],
         "z": [
          0.024373942986130714
         ]
        },
        {
         "hovertemplate": "color=of<br>x=%{x}<br>y=%{y}<br>z=%{z}<extra></extra>",
         "legendgroup": "of",
         "marker": {
          "color": "#00cc96",
          "symbol": "circle"
         },
         "mode": "markers",
         "name": "of",
         "scene": "scene",
         "showlegend": true,
         "type": "scatter3d",
         "x": [
          -0.019924433901906013
         ],
         "y": [
          0.17041245102882385
         ],
         "z": [
          0.008444567210972309
         ]
        },
        {
         "hovertemplate": "color=he<br>x=%{x}<br>y=%{y}<br>z=%{z}<extra></extra>",
         "legendgroup": "he",
         "marker": {
          "color": "#ab63fa",
          "symbol": "circle"
         },
         "mode": "markers",
         "name": "he",
         "scene": "scene",
         "showlegend": true,
         "type": "scatter3d",
         "x": [
          0.04643244296312332
         ],
         "y": [
          -0.4303606152534485
         ],
         "z": [
          0.33283737301826477
         ]
        },
        {
         "hovertemplate": "color=his<br>x=%{x}<br>y=%{y}<br>z=%{z}<extra></extra>",
         "legendgroup": "his",
         "marker": {
          "color": "#FFA15A",
          "symbol": "circle"
         },
         "mode": "markers",
         "name": "his",
         "scene": "scene",
         "showlegend": true,
         "type": "scatter3d",
         "x": [
          -0.09884766489267349
         ],
         "y": [
          0.12277068942785263
         ],
         "z": [
          0.41312724351882935
         ]
        },
        {
         "hovertemplate": "color=was<br>x=%{x}<br>y=%{y}<br>z=%{z}<extra></extra>",
         "legendgroup": "was",
         "marker": {
          "color": "#19d3f3",
          "symbol": "circle"
         },
         "mode": "markers",
         "name": "was",
         "scene": "scene",
         "showlegend": true,
         "type": "scatter3d",
         "x": [
          0.08284617960453033
         ],
         "y": [
          0.19191808998584747
         ],
         "z": [
          -0.07432832568883896
         ]
        },
        {
         "hovertemplate": "color=you<br>x=%{x}<br>y=%{y}<br>z=%{z}<extra></extra>",
         "legendgroup": "you",
         "marker": {
          "color": "#FF6692",
          "symbol": "circle"
         },
         "mode": "markers",
         "name": "you",
         "scene": "scene",
         "showlegend": true,
         "type": "scatter3d",
         "x": [
          0.514069676399231
         ],
         "y": [
          -0.35324627161026
         ],
         "z": [
          0.03151639923453331
         ]
        },
        {
         "hovertemplate": "color=her<br>x=%{x}<br>y=%{y}<br>z=%{z}<extra></extra>",
         "legendgroup": "her",
         "marker": {
          "color": "#B6E880",
          "symbol": "circle"
         },
         "mode": "markers",
         "name": "her",
         "scene": "scene",
         "showlegend": true,
         "type": "scatter3d",
         "x": [
          -0.10000148415565491
         ],
         "y": [
          -0.05913284048438072
         ],
         "z": [
          0.27599334716796875
         ]
        },
        {
         "hovertemplate": "color=in<br>x=%{x}<br>y=%{y}<br>z=%{z}<extra></extra>",
         "legendgroup": "in",
         "marker": {
          "color": "#FF97FF",
          "symbol": "circle"
         },
         "mode": "markers",
         "name": "in",
         "scene": "scene",
         "showlegend": true,
         "type": "scatter3d",
         "x": [
          -0.07158016413450241
         ],
         "y": [
          0.14702105522155762
         ],
         "z": [
          0.046300746500492096
         ]
        },
        {
         "hovertemplate": "color=it<br>x=%{x}<br>y=%{y}<br>z=%{z}<extra></extra>",
         "legendgroup": "it",
         "marker": {
          "color": "#FECB52",
          "symbol": "circle"
         },
         "mode": "markers",
         "name": "it",
         "scene": "scene",
         "showlegend": true,
         "type": "scatter3d",
         "x": [
          0.0865129753947258
         ],
         "y": [
          -0.42062291502952576
         ],
         "z": [
          0.06335245072841644
         ]
        },
        {
         "hovertemplate": "color=had<br>x=%{x}<br>y=%{y}<br>z=%{z}<extra></extra>",
         "legendgroup": "had",
         "marker": {
          "color": "#636efa",
          "symbol": "circle"
         },
         "mode": "markers",
         "name": "had",
         "scene": "scene",
         "showlegend": true,
         "type": "scatter3d",
         "x": [
          0.08385546505451202
         ],
         "y": [
          0.009669419378042221
         ],
         "z": [
          -0.05073271319270134
         ]
        },
        {
         "hovertemplate": "color=that<br>x=%{x}<br>y=%{y}<br>z=%{z}<extra></extra>",
         "legendgroup": "that",
         "marker": {
          "color": "#EF553B",
          "symbol": "circle"
         },
         "mode": "markers",
         "name": "that",
         "scene": "scene",
         "showlegend": true,
         "type": "scatter3d",
         "x": [
          0.3397618532180786
         ],
         "y": [
          -0.40114906430244446
         ],
         "z": [
          0.09044510126113892
         ]
        },
        {
         "hovertemplate": "color=she<br>x=%{x}<br>y=%{y}<br>z=%{z}<extra></extra>",
         "legendgroup": "she",
         "marker": {
          "color": "#00cc96",
          "symbol": "circle"
         },
         "mode": "markers",
         "name": "she",
         "scene": "scene",
         "showlegend": true,
         "type": "scatter3d",
         "x": [
          -0.002810065168887377
         ],
         "y": [
          -0.3628446161746979
         ],
         "z": [
          0.25923052430152893
         ]
        },
        {
         "hovertemplate": "color=as<br>x=%{x}<br>y=%{y}<br>z=%{z}<extra></extra>",
         "legendgroup": "as",
         "marker": {
          "color": "#ab63fa",
          "symbol": "circle"
         },
         "mode": "markers",
         "name": "as",
         "scene": "scene",
         "showlegend": true,
         "type": "scatter3d",
         "x": [
          -0.012756356969475746
         ],
         "y": [
          -0.023607635870575905
         ],
         "z": [
          0.1055789440870285
         ]
        },
        {
         "hovertemplate": "color=with<br>x=%{x}<br>y=%{y}<br>z=%{z}<extra></extra>",
         "legendgroup": "with",
         "marker": {
          "color": "#FFA15A",
          "symbol": "circle"
         },
         "mode": "markers",
         "name": "with",
         "scene": "scene",
         "showlegend": true,
         "type": "scatter3d",
         "x": [
          -0.06681082397699356
         ],
         "y": [
          0.37029820680618286
         ],
         "z": [
          0.06852317601442337
         ]
        },
        {
         "hovertemplate": "color=him<br>x=%{x}<br>y=%{y}<br>z=%{z}<extra></extra>",
         "legendgroup": "him",
         "marker": {
          "color": "#19d3f3",
          "symbol": "circle"
         },
         "mode": "markers",
         "name": "him",
         "scene": "scene",
         "showlegend": true,
         "type": "scatter3d",
         "x": [
          -0.009049275889992714
         ],
         "y": [
          -0.3595772385597229
         ],
         "z": [
          0.22398865222930908
         ]
        },
        {
         "hovertemplate": "color=not<br>x=%{x}<br>y=%{y}<br>z=%{z}<extra></extra>",
         "legendgroup": "not",
         "marker": {
          "color": "#FF6692",
          "symbol": "circle"
         },
         "mode": "markers",
         "name": "not",
         "scene": "scene",
         "showlegend": true,
         "type": "scatter3d",
         "x": [
          0.5017345547676086
         ],
         "y": [
          -0.12501786649227142
         ],
         "z": [
          -0.06301219016313553
         ]
        },
        {
         "hovertemplate": "color=but<br>x=%{x}<br>y=%{y}<br>z=%{z}<extra></extra>",
         "legendgroup": "but",
         "marker": {
          "color": "#B6E880",
          "symbol": "circle"
         },
         "mode": "markers",
         "name": "but",
         "scene": "scene",
         "showlegend": true,
         "type": "scatter3d",
         "x": [
          0.2582268714904785
         ],
         "y": [
          -0.18876969814300537
         ],
         "z": [
          -0.01664949208498001
         ]
        },
        {
         "hovertemplate": "color=for<br>x=%{x}<br>y=%{y}<br>z=%{z}<extra></extra>",
         "legendgroup": "for",
         "marker": {
          "color": "#FF97FF",
          "symbol": "circle"
         },
         "mode": "markers",
         "name": "for",
         "scene": "scene",
         "showlegend": true,
         "type": "scatter3d",
         "x": [
          0.4945261478424072
         ],
         "y": [
          0.052709754556417465
         ],
         "z": [
          -0.06908801943063736
         ]
        },
        {
         "hovertemplate": "color=they<br>x=%{x}<br>y=%{y}<br>z=%{z}<extra></extra>",
         "legendgroup": "they",
         "marker": {
          "color": "#FECB52",
          "symbol": "circle"
         },
         "mode": "markers",
         "name": "they",
         "scene": "scene",
         "showlegend": true,
         "type": "scatter3d",
         "x": [
          -0.06821132451295853
         ],
         "y": [
          -0.5112530589103699
         ],
         "z": [
          -0.06511688977479935
         ]
        },
        {
         "hovertemplate": "color=is<br>x=%{x}<br>y=%{y}<br>z=%{z}<extra></extra>",
         "legendgroup": "is",
         "marker": {
          "color": "#636efa",
          "symbol": "circle"
         },
         "mode": "markers",
         "name": "is",
         "scene": "scene",
         "showlegend": true,
         "type": "scatter3d",
         "x": [
          0.5746250152587891
         ],
         "y": [
          0.07896915078163147
         ],
         "z": [
          -0.22649438679218292
         ]
        },
        {
         "hovertemplate": "color=at<br>x=%{x}<br>y=%{y}<br>z=%{z}<extra></extra>",
         "legendgroup": "at",
         "marker": {
          "color": "#EF553B",
          "symbol": "circle"
         },
         "mode": "markers",
         "name": "at",
         "scene": "scene",
         "showlegend": true,
         "type": "scatter3d",
         "x": [
          0.015033567324280739
         ],
         "y": [
          0.24457955360412598
         ],
         "z": [
          0.17517824470996857
         ]
        },
        {
         "hovertemplate": "color=on<br>x=%{x}<br>y=%{y}<br>z=%{z}<extra></extra>",
         "legendgroup": "on",
         "marker": {
          "color": "#00cc96",
          "symbol": "circle"
         },
         "mode": "markers",
         "name": "on",
         "scene": "scene",
         "showlegend": true,
         "type": "scatter3d",
         "x": [
          -0.13985513150691986
         ],
         "y": [
          0.22925642132759094
         ],
         "z": [
          0.08589967340230942
         ]
        },
        {
         "hovertemplate": "color=said<br>x=%{x}<br>y=%{y}<br>z=%{z}<extra></extra>",
         "legendgroup": "said",
         "marker": {
          "color": "#ab63fa",
          "symbol": "circle"
         },
         "mode": "markers",
         "name": "said",
         "scene": "scene",
         "showlegend": true,
         "type": "scatter3d",
         "x": [
          0.5867398977279663
         ],
         "y": [
          0.41887545585632324
         ],
         "z": [
          -0.1595858931541443
         ]
        },
        {
         "hovertemplate": "color=my<br>x=%{x}<br>y=%{y}<br>z=%{z}<extra></extra>",
         "legendgroup": "my",
         "marker": {
          "color": "#FFA15A",
          "symbol": "circle"
         },
         "mode": "markers",
         "name": "my",
         "scene": "scene",
         "showlegend": true,
         "type": "scatter3d",
         "x": [
          0.5544717311859131
         ],
         "y": [
          -0.010104040615260601
         ],
         "z": [
          0.16623924672603607
         ]
        },
        {
         "hovertemplate": "color=have<br>x=%{x}<br>y=%{y}<br>z=%{z}<extra></extra>",
         "legendgroup": "have",
         "marker": {
          "color": "#19d3f3",
          "symbol": "circle"
         },
         "mode": "markers",
         "name": "have",
         "scene": "scene",
         "showlegend": true,
         "type": "scatter3d",
         "x": [
          0.39640572667121887
         ],
         "y": [
          -0.18279753625392914
         ],
         "z": [
          -0.15185676515102386
         ]
        },
        {
         "hovertemplate": "color=be<br>x=%{x}<br>y=%{y}<br>z=%{z}<extra></extra>",
         "legendgroup": "be",
         "marker": {
          "color": "#FF6692",
          "symbol": "circle"
         },
         "mode": "markers",
         "name": "be",
         "scene": "scene",
         "showlegend": true,
         "type": "scatter3d",
         "x": [
          0.30440250039100647
         ],
         "y": [
          -0.17832337319850922
         ],
         "z": [
          -0.196102574467659
         ]
        },
        {
         "hovertemplate": "color=lord<br>x=%{x}<br>y=%{y}<br>z=%{z}<extra></extra>",
         "legendgroup": "lord",
         "marker": {
          "color": "#B6E880",
          "symbol": "circle"
         },
         "mode": "markers",
         "name": "lord",
         "scene": "scene",
         "showlegend": true,
         "type": "scatter3d",
         "x": [
          0.465566486120224
         ],
         "y": [
          -0.07886780798435211
         ],
         "z": [
          0.10902412235736847
         ]
        },
        {
         "hovertemplate": "color=them<br>x=%{x}<br>y=%{y}<br>z=%{z}<extra></extra>",
         "legendgroup": "them",
         "marker": {
          "color": "#FF97FF",
          "symbol": "circle"
         },
         "mode": "markers",
         "name": "them",
         "scene": "scene",
         "showlegend": true,
         "type": "scatter3d",
         "x": [
          -0.12256324291229248
         ],
         "y": [
          -0.49289456009864807
         ],
         "z": [
          -0.10986063629388809
         ]
        },
        {
         "hovertemplate": "color=no<br>x=%{x}<br>y=%{y}<br>z=%{z}<extra></extra>",
         "legendgroup": "no",
         "marker": {
          "color": "#FECB52",
          "symbol": "circle"
         },
         "mode": "markers",
         "name": "no",
         "scene": "scene",
         "showlegend": true,
         "type": "scatter3d",
         "x": [
          0.4470579922199249
         ],
         "y": [
          -0.11225993186235428
         ],
         "z": [
          -0.010101549327373505
         ]
        },
        {
         "hovertemplate": "color=from<br>x=%{x}<br>y=%{y}<br>z=%{z}<extra></extra>",
         "legendgroup": "from",
         "marker": {
          "color": "#636efa",
          "symbol": "circle"
         },
         "mode": "markers",
         "name": "from",
         "scene": "scene",
         "showlegend": true,
         "type": "scatter3d",
         "x": [
          -0.21075697243213654
         ],
         "y": [
          0.19990387558937073
         ],
         "z": [
          0.04639819636940956
         ]
        },
        {
         "hovertemplate": "color=would<br>x=%{x}<br>y=%{y}<br>z=%{z}<extra></extra>",
         "legendgroup": "would",
         "marker": {
          "color": "#EF553B",
          "symbol": "circle"
         },
         "mode": "markers",
         "name": "would",
         "scene": "scene",
         "showlegend": true,
         "type": "scatter3d",
         "x": [
          0.36149412393569946
         ],
         "y": [
          0.00944606401026249
         ],
         "z": [
          -0.17169952392578125
         ]
        },
        {
         "hovertemplate": "color=were<br>x=%{x}<br>y=%{y}<br>z=%{z}<extra></extra>",
         "legendgroup": "were",
         "marker": {
          "color": "#00cc96",
          "symbol": "circle"
         },
         "mode": "markers",
         "name": "were",
         "scene": "scene",
         "showlegend": true,
         "type": "scatter3d",
         "x": [
          -0.07056234776973724
         ],
         "y": [
          0.08218313008546829
         ],
         "z": [
          -0.2762621343135834
         ]
        },
        {
         "hovertemplate": "color=me<br>x=%{x}<br>y=%{y}<br>z=%{z}<extra></extra>",
         "legendgroup": "me",
         "marker": {
          "color": "#ab63fa",
          "symbol": "circle"
         },
         "mode": "markers",
         "name": "me",
         "scene": "scene",
         "showlegend": true,
         "type": "scatter3d",
         "x": [
          0.4589879810810089
         ],
         "y": [
          -0.33081868290901184
         ],
         "z": [
          0.09504112601280212
         ]
        },
        {
         "hovertemplate": "color=your<br>x=%{x}<br>y=%{y}<br>z=%{z}<extra></extra>",
         "legendgroup": "your",
         "marker": {
          "color": "#FFA15A",
          "symbol": "circle"
         },
         "mode": "markers",
         "name": "your",
         "scene": "scene",
         "showlegend": true,
         "type": "scatter3d",
         "x": [
          0.49112460017204285
         ],
         "y": [
          0.02965589426457882
         ],
         "z": [
          0.09493038803339005
         ]
        },
        {
         "hovertemplate": "color=one<br>x=%{x}<br>y=%{y}<br>z=%{z}<extra></extra>",
         "legendgroup": "one",
         "marker": {
          "color": "#19d3f3",
          "symbol": "circle"
         },
         "mode": "markers",
         "name": "one",
         "scene": "scene",
         "showlegend": true,
         "type": "scatter3d",
         "x": [
          0.032914627343416214
         ],
         "y": [
          -0.25894150137901306
         ],
         "z": [
          0.11272015422582626
         ]
        },
        {
         "hovertemplate": "color=all<br>x=%{x}<br>y=%{y}<br>z=%{z}<extra></extra>",
         "legendgroup": "all",
         "marker": {
          "color": "#FF6692",
          "symbol": "circle"
         },
         "mode": "markers",
         "name": "all",
         "scene": "scene",
         "showlegend": true,
         "type": "scatter3d",
         "x": [
          0.14895810186862946
         ],
         "y": [
          -0.17489507794380188
         ],
         "z": [
          -0.17793942987918854
         ]
        },
        {
         "hovertemplate": "color=when<br>x=%{x}<br>y=%{y}<br>z=%{z}<extra></extra>",
         "legendgroup": "when",
         "marker": {
          "color": "#B6E880",
          "symbol": "circle"
         },
         "mode": "markers",
         "name": "when",
         "scene": "scene",
         "showlegend": true,
         "type": "scatter3d",
         "x": [
          0.04208233579993248
         ],
         "y": [
          -0.11529301106929779
         ],
         "z": [
          0.1713479459285736
         ]
        },
        {
         "hovertemplate": "color=will<br>x=%{x}<br>y=%{y}<br>z=%{z}<extra></extra>",
         "legendgroup": "will",
         "marker": {
          "color": "#FF97FF",
          "symbol": "circle"
         },
         "mode": "markers",
         "name": "will",
         "scene": "scene",
         "showlegend": true,
         "type": "scatter3d",
         "x": [
          0.466416597366333
         ],
         "y": [
          0.05584334954619408
         ],
         "z": [
          -0.21077841520309448
         ]
        },
        {
         "hovertemplate": "color=ser<br>x=%{x}<br>y=%{y}<br>z=%{z}<extra></extra>",
         "legendgroup": "ser",
         "marker": {
          "color": "#FECB52",
          "symbol": "circle"
         },
         "mode": "markers",
         "name": "ser",
         "scene": "scene",
         "showlegend": true,
         "type": "scatter3d",
         "x": [
          0.3273542821407318
         ],
         "y": [
          -0.010588058270514011
         ],
         "z": [
          0.18966366350650787
         ]
        },
        {
         "hovertemplate": "color=if<br>x=%{x}<br>y=%{y}<br>z=%{z}<extra></extra>",
         "legendgroup": "if",
         "marker": {
          "color": "#636efa",
          "symbol": "circle"
         },
         "mode": "markers",
         "name": "if",
         "scene": "scene",
         "showlegend": true,
         "type": "scatter3d",
         "x": [
          0.3669546842575073
         ],
         "y": [
          -0.1573389172554016
         ],
         "z": [
          -0.02565552294254303
         ]
        },
        {
         "hovertemplate": "color=so<br>x=%{x}<br>y=%{y}<br>z=%{z}<extra></extra>",
         "legendgroup": "so",
         "marker": {
          "color": "#EF553B",
          "symbol": "circle"
         },
         "mode": "markers",
         "name": "so",
         "scene": "scene",
         "showlegend": true,
         "type": "scatter3d",
         "x": [
          0.17732129991054535
         ],
         "y": [
          -0.14593948423862457
         ],
         "z": [
          -0.04167018458247185
         ]
        },
        {
         "hovertemplate": "color=their<br>x=%{x}<br>y=%{y}<br>z=%{z}<extra></extra>",
         "legendgroup": "their",
         "marker": {
          "color": "#00cc96",
          "symbol": "circle"
         },
         "mode": "markers",
         "name": "their",
         "scene": "scene",
         "showlegend": true,
         "type": "scatter3d",
         "x": [
          -0.14199987053871155
         ],
         "y": [
          -0.109201580286026
         ],
         "z": [
          -0.08579543232917786
         ]
        },
        {
         "hovertemplate": "color=we<br>x=%{x}<br>y=%{y}<br>z=%{z}<extra></extra>",
         "legendgroup": "we",
         "marker": {
          "color": "#ab63fa",
          "symbol": "circle"
         },
         "mode": "markers",
         "name": "we",
         "scene": "scene",
         "showlegend": true,
         "type": "scatter3d",
         "x": [
          0.3041859567165375
         ],
         "y": [
          -0.3985423445701599
         ],
         "z": [
          -0.17527611553668976
         ]
        },
        {
         "hovertemplate": "color=could<br>x=%{x}<br>y=%{y}<br>z=%{z}<extra></extra>",
         "legendgroup": "could",
         "marker": {
          "color": "#FFA15A",
          "symbol": "circle"
         },
         "mode": "markers",
         "name": "could",
         "scene": "scene",
         "showlegend": true,
         "type": "scatter3d",
         "x": [
          0.1282062530517578
         ],
         "y": [
          0.09587637335062027
         ],
         "z": [
          -0.1246614009141922
         ]
        },
        {
         "hovertemplate": "color=are<br>x=%{x}<br>y=%{y}<br>z=%{z}<extra></extra>",
         "legendgroup": "are",
         "marker": {
          "color": "#19d3f3",
          "symbol": "circle"
         },
         "mode": "markers",
         "name": "are",
         "scene": "scene",
         "showlegend": true,
         "type": "scatter3d",
         "x": [
          0.3859056830406189
         ],
         "y": [
          0.02314656227827072
         ],
         "z": [
          -0.2848685383796692
         ]
        },
        {
         "hovertemplate": "color=man<br>x=%{x}<br>y=%{y}<br>z=%{z}<extra></extra>",
         "legendgroup": "man",
         "marker": {
          "color": "#FF6692",
          "symbol": "circle"
         },
         "mode": "markers",
         "name": "man",
         "scene": "scene",
         "showlegend": true,
         "type": "scatter3d",
         "x": [
          0.06253796815872192
         ],
         "y": [
          -0.27249547839164734
         ],
         "z": [
          0.2080293446779251
         ]
        },
        {
         "hovertemplate": "color=there<br>x=%{x}<br>y=%{y}<br>z=%{z}<extra></extra>",
         "legendgroup": "there",
         "marker": {
          "color": "#B6E880",
          "symbol": "circle"
         },
         "mode": "markers",
         "name": "there",
         "scene": "scene",
         "showlegend": true,
         "type": "scatter3d",
         "x": [
          0.05932910740375519
         ],
         "y": [
          -0.1068144366145134
         ],
         "z": [
          -0.11231961846351624
         ]
        },
        {
         "hovertemplate": "color=this<br>x=%{x}<br>y=%{y}<br>z=%{z}<extra></extra>",
         "legendgroup": "this",
         "marker": {
          "color": "#FF97FF",
          "symbol": "circle"
         },
         "mode": "markers",
         "name": "this",
         "scene": "scene",
         "showlegend": true,
         "type": "scatter3d",
         "x": [
          0.42212939262390137
         ],
         "y": [
          -0.21139739453792572
         ],
         "z": [
          -0.01352439820766449
         ]
        },
        {
         "hovertemplate": "color=up<br>x=%{x}<br>y=%{y}<br>z=%{z}<extra></extra>",
         "legendgroup": "up",
         "marker": {
          "color": "#FECB52",
          "symbol": "circle"
         },
         "mode": "markers",
         "name": "up",
         "scene": "scene",
         "showlegend": true,
         "type": "scatter3d",
         "x": [
          -0.29318827390670776
         ],
         "y": [
          -0.10959207266569138
         ],
         "z": [
          0.10627589374780655
         ]
        },
        {
         "hovertemplate": "color=been<br>x=%{x}<br>y=%{y}<br>z=%{z}<extra></extra>",
         "legendgroup": "been",
         "marker": {
          "color": "#636efa",
          "symbol": "circle"
         },
         "mode": "markers",
         "name": "been",
         "scene": "scene",
         "showlegend": true,
         "type": "scatter3d",
         "x": [
          0.11683963239192963
         ],
         "y": [
          0.05719916895031929
         ],
         "z": [
          -0.1302054524421692
         ]
        },
        {
         "hovertemplate": "color=what<br>x=%{x}<br>y=%{y}<br>z=%{z}<extra></extra>",
         "legendgroup": "what",
         "marker": {
          "color": "#EF553B",
          "symbol": "circle"
         },
         "mode": "markers",
         "name": "what",
         "scene": "scene",
         "showlegend": true,
         "type": "scatter3d",
         "x": [
          0.36888715624809265
         ],
         "y": [
          -0.23487141728401184
         ],
         "z": [
          0.03736506402492523
         ]
        },
        {
         "hovertemplate": "color=by<br>x=%{x}<br>y=%{y}<br>z=%{z}<extra></extra>",
         "legendgroup": "by",
         "marker": {
          "color": "#00cc96",
          "symbol": "circle"
         },
         "mode": "markers",
         "name": "by",
         "scene": "scene",
         "showlegend": true,
         "type": "scatter3d",
         "x": [
          -0.02336977981030941
         ],
         "y": [
          0.06792782247066498
         ],
         "z": [
          0.0772799402475357
         ]
        },
        {
         "hovertemplate": "color=did<br>x=%{x}<br>y=%{y}<br>z=%{z}<extra></extra>",
         "legendgroup": "did",
         "marker": {
          "color": "#ab63fa",
          "symbol": "circle"
         },
         "mode": "markers",
         "name": "did",
         "scene": "scene",
         "showlegend": true,
         "type": "scatter3d",
         "x": [
          0.4106360077857971
         ],
         "y": [
          0.15165193378925323
         ],
         "z": [
          -0.10872617363929749
         ]
        },
        {
         "hovertemplate": "color=king<br>x=%{x}<br>y=%{y}<br>z=%{z}<extra></extra>",
         "legendgroup": "king",
         "marker": {
          "color": "#FFA15A",
          "symbol": "circle"
         },
         "mode": "markers",
         "name": "king",
         "scene": "scene",
         "showlegend": true,
         "type": "scatter3d",
         "x": [
          0.35059478878974915
         ],
         "y": [
          -0.17172814905643463
         ],
         "z": [
          -0.0013275883393362164
         ]
        },
        {
         "hovertemplate": "color=do<br>x=%{x}<br>y=%{y}<br>z=%{z}<extra></extra>",
         "legendgroup": "do",
         "marker": {
          "color": "#19d3f3",
          "symbol": "circle"
         },
         "mode": "markers",
         "name": "do",
         "scene": "scene",
         "showlegend": true,
         "type": "scatter3d",
         "x": [
          0.5938946604728699
         ],
         "y": [
          0.010704333893954754
         ],
         "z": [
          -0.19325825572013855
         ]
        },
        {
         "hovertemplate": "color=men<br>x=%{x}<br>y=%{y}<br>z=%{z}<extra></extra>",
         "legendgroup": "men",
         "marker": {
          "color": "#FF6692",
          "symbol": "circle"
         },
         "mode": "markers",
         "name": "men",
         "scene": "scene",
         "showlegend": true,
         "type": "scatter3d",
         "x": [
          -0.019088545814156532
         ],
         "y": [
          -0.4390723407268524
         ],
         "z": [
          -0.15528616309165955
         ]
        },
        {
         "hovertemplate": "color=back<br>x=%{x}<br>y=%{y}<br>z=%{z}<extra></extra>",
         "legendgroup": "back",
         "marker": {
          "color": "#B6E880",
          "symbol": "circle"
         },
         "mode": "markers",
         "name": "back",
         "scene": "scene",
         "showlegend": true,
         "type": "scatter3d",
         "x": [
          -0.20116667449474335
         ],
         "y": [
          0.008179454132914543
         ],
         "z": [
          0.0627252459526062
         ]
        },
        {
         "hovertemplate": "color=out<br>x=%{x}<br>y=%{y}<br>z=%{z}<extra></extra>",
         "legendgroup": "out",
         "marker": {
          "color": "#FF97FF",
          "symbol": "circle"
         },
         "mode": "markers",
         "name": "out",
         "scene": "scene",
         "showlegend": true,
         "type": "scatter3d",
         "x": [
          -0.16010092198848724
         ],
         "y": [
          -0.03625093400478363
         ],
         "z": [
          0.09908900409936905
         ]
        },
        {
         "hovertemplate": "color=more<br>x=%{x}<br>y=%{y}<br>z=%{z}<extra></extra>",
         "legendgroup": "more",
         "marker": {
          "color": "#FECB52",
          "symbol": "circle"
         },
         "mode": "markers",
         "name": "more",
         "scene": "scene",
         "showlegend": true,
         "type": "scatter3d",
         "x": [
          0.1849730908870697
         ],
         "y": [
          -0.18454356491565704
         ],
         "z": [
          -0.06975468248128891
         ]
        },
        {
         "hovertemplate": "color=or<br>x=%{x}<br>y=%{y}<br>z=%{z}<extra></extra>",
         "legendgroup": "or",
         "marker": {
          "color": "#636efa",
          "symbol": "circle"
         },
         "mode": "markers",
         "name": "or",
         "scene": "scene",
         "showlegend": true,
         "type": "scatter3d",
         "x": [
          0.34286147356033325
         ],
         "y": [
          -0.09316043555736542
         ],
         "z": [
          -0.1565011739730835
         ]
        },
        {
         "hovertemplate": "color=who<br>x=%{x}<br>y=%{y}<br>z=%{z}<extra></extra>",
         "legendgroup": "who",
         "marker": {
          "color": "#EF553B",
          "symbol": "circle"
         },
         "mode": "markers",
         "name": "who",
         "scene": "scene",
         "showlegend": true,
         "type": "scatter3d",
         "x": [
          0.3222062289714813
         ],
         "y": [
          -0.3313102126121521
         ],
         "z": [
          0.20409367978572845
         ]
        },
        {
         "hovertemplate": "color=down<br>x=%{x}<br>y=%{y}<br>z=%{z}<extra></extra>",
         "legendgroup": "down",
         "marker": {
          "color": "#00cc96",
          "symbol": "circle"
         },
         "mode": "markers",
         "name": "down",
         "scene": "scene",
         "showlegend": true,
         "type": "scatter3d",
         "x": [
          -0.3569147288799286
         ],
         "y": [
          -0.014507018029689789
         ],
         "z": [
          0.0734812319278717
         ]
        },
        {
         "hovertemplate": "color=well<br>x=%{x}<br>y=%{y}<br>z=%{z}<extra></extra>",
         "legendgroup": "well",
         "marker": {
          "color": "#ab63fa",
          "symbol": "circle"
         },
         "mode": "markers",
         "name": "well",
         "scene": "scene",
         "showlegend": true,
         "type": "scatter3d",
         "x": [
          0.280963271856308
         ],
         "y": [
          -0.05978575348854065
         ],
         "z": [
          -0.00557431485503912
         ]
        },
        {
         "hovertemplate": "color=than<br>x=%{x}<br>y=%{y}<br>z=%{z}<extra></extra>",
         "legendgroup": "than",
         "marker": {
          "color": "#FFA15A",
          "symbol": "circle"
         },
         "mode": "markers",
         "name": "than",
         "scene": "scene",
         "showlegend": true,
         "type": "scatter3d",
         "x": [
          0.18136291205883026
         ],
         "y": [
          0.03659462928771973
         ],
         "z": [
          -0.05714600160717964
         ]
        },
        {
         "hovertemplate": "color=only<br>x=%{x}<br>y=%{y}<br>z=%{z}<extra></extra>",
         "legendgroup": "only",
         "marker": {
          "color": "#19d3f3",
          "symbol": "circle"
         },
         "mode": "markers",
         "name": "only",
         "scene": "scene",
         "showlegend": true,
         "type": "scatter3d",
         "x": [
          0.267021119594574
         ],
         "y": [
          -0.046147458255290985
         ],
         "z": [
          -0.017027318477630615
         ]
        },
        {
         "hovertemplate": "color=jon<br>x=%{x}<br>y=%{y}<br>z=%{z}<extra></extra>",
         "legendgroup": "jon",
         "marker": {
          "color": "#FF6692",
          "symbol": "circle"
         },
         "mode": "markers",
         "name": "jon",
         "scene": "scene",
         "showlegend": true,
         "type": "scatter3d",
         "x": [
          0.012672959826886654
         ],
         "y": [
          -0.22049200534820557
         ],
         "z": [
          0.30981311202049255
         ]
        },
        {
         "hovertemplate": "color=like<br>x=%{x}<br>y=%{y}<br>z=%{z}<extra></extra>",
         "legendgroup": "like",
         "marker": {
          "color": "#B6E880",
          "symbol": "circle"
         },
         "mode": "markers",
         "name": "like",
         "scene": "scene",
         "showlegend": true,
         "type": "scatter3d",
         "x": [
          0.05508456006646156
         ],
         "y": [
          0.2181534320116043
         ],
         "z": [
          -0.017000295221805573
         ]
        },
        {
         "hovertemplate": "color=some<br>x=%{x}<br>y=%{y}<br>z=%{z}<extra></extra>",
         "legendgroup": "some",
         "marker": {
          "color": "#FF97FF",
          "symbol": "circle"
         },
         "mode": "markers",
         "name": "some",
         "scene": "scene",
         "showlegend": true,
         "type": "scatter3d",
         "x": [
          0.11059030890464783
         ],
         "y": [
          -0.22753672301769257
         ],
         "z": [
          0.04275791719555855
         ]
        },
        {
         "hovertemplate": "color=father<br>x=%{x}<br>y=%{y}<br>z=%{z}<extra></extra>",
         "legendgroup": "father",
         "marker": {
          "color": "#FECB52",
          "symbol": "circle"
         },
         "mode": "markers",
         "name": "father",
         "scene": "scene",
         "showlegend": true,
         "type": "scatter3d",
         "x": [
          0.3924407660961151
         ],
         "y": [
          -0.24477219581604004
         ],
         "z": [
          0.008525503799319267
         ]
        },
        {
         "hovertemplate": "color=old<br>x=%{x}<br>y=%{y}<br>z=%{z}<extra></extra>",
         "legendgroup": "old",
         "marker": {
          "color": "#636efa",
          "symbol": "circle"
         },
         "mode": "markers",
         "name": "old",
         "scene": "scene",
         "showlegend": true,
         "type": "scatter3d",
         "x": [
          0.15635362267494202
         ],
         "y": [
          -0.015839001163840294
         ],
         "z": [
          0.20125539600849152
         ]
        },
        {
         "hovertemplate": "color=hand<br>x=%{x}<br>y=%{y}<br>z=%{z}<extra></extra>",
         "legendgroup": "hand",
         "marker": {
          "color": "#EF553B",
          "symbol": "circle"
         },
         "mode": "markers",
         "name": "hand",
         "scene": "scene",
         "showlegend": true,
         "type": "scatter3d",
         "x": [
          -0.08192864805459976
         ],
         "y": [
          -0.04719226807355881
         ],
         "z": [
          0.07149659842252731
         ]
        },
        {
         "hovertemplate": "color=tyrion<br>x=%{x}<br>y=%{y}<br>z=%{z}<extra></extra>",
         "legendgroup": "tyrion",
         "marker": {
          "color": "#00cc96",
          "symbol": "circle"
         },
         "mode": "markers",
         "name": "tyrion",
         "scene": "scene",
         "showlegend": true,
         "type": "scatter3d",
         "x": [
          0.11698570847511292
         ],
         "y": [
          -0.2404019832611084
         ],
         "z": [
          0.28542736172676086
         ]
        },
        {
         "hovertemplate": "color=even<br>x=%{x}<br>y=%{y}<br>z=%{z}<extra></extra>",
         "legendgroup": "even",
         "marker": {
          "color": "#ab63fa",
          "symbol": "circle"
         },
         "mode": "markers",
         "name": "even",
         "scene": "scene",
         "showlegend": true,
         "type": "scatter3d",
         "x": [
          0.16608473658561707
         ],
         "y": [
          -0.06438785046339035
         ],
         "z": [
          -0.12062627822160721
         ]
        },
        {
         "hovertemplate": "color=too<br>x=%{x}<br>y=%{y}<br>z=%{z}<extra></extra>",
         "legendgroup": "too",
         "marker": {
          "color": "#FFA15A",
          "symbol": "circle"
         },
         "mode": "markers",
         "name": "too",
         "scene": "scene",
         "showlegend": true,
         "type": "scatter3d",
         "x": [
          0.17545084655284882
         ],
         "y": [
          -0.07376524806022644
         ],
         "z": [
          0.06694739311933517
         ]
        },
        {
         "hovertemplate": "color=before<br>x=%{x}<br>y=%{y}<br>z=%{z}<extra></extra>",
         "legendgroup": "before",
         "marker": {
          "color": "#19d3f3",
          "symbol": "circle"
         },
         "mode": "markers",
         "name": "before",
         "scene": "scene",
         "showlegend": true,
         "type": "scatter3d",
         "x": [
          0.06070953607559204
         ],
         "y": [
          -0.0005126048345118761
         ],
         "z": [
          0.045889712870121
         ]
        },
        {
         "hovertemplate": "color=never<br>x=%{x}<br>y=%{y}<br>z=%{z}<extra></extra>",
         "legendgroup": "never",
         "marker": {
          "color": "#FF6692",
          "symbol": "circle"
         },
         "mode": "markers",
         "name": "never",
         "scene": "scene",
         "showlegend": true,
         "type": "scatter3d",
         "x": [
          0.35596439242362976
         ],
         "y": [
          -0.2423572838306427
         ],
         "z": [
          0.07191666960716248
         ]
        },
        {
         "hovertemplate": "color=an<br>x=%{x}<br>y=%{y}<br>z=%{z}<extra></extra>",
         "legendgroup": "an",
         "marker": {
          "color": "#B6E880",
          "symbol": "circle"
         },
         "mode": "markers",
         "name": "an",
         "scene": "scene",
         "showlegend": true,
         "type": "scatter3d",
         "x": [
          0.07388001680374146
         ],
         "y": [
          -0.011167488992214203
         ],
         "z": [
          0.18469029664993286
         ]
        },
        {
         "hovertemplate": "color=off<br>x=%{x}<br>y=%{y}<br>z=%{z}<extra></extra>",
         "legendgroup": "off",
         "marker": {
          "color": "#FF97FF",
          "symbol": "circle"
         },
         "mode": "markers",
         "name": "off",
         "scene": "scene",
         "showlegend": true,
         "type": "scatter3d",
         "x": [
          -0.14722445607185364
         ],
         "y": [
          0.06987045705318451
         ],
         "z": [
          0.1658317744731903
         ]
        },
        {
         "hovertemplate": "color=see<br>x=%{x}<br>y=%{y}<br>z=%{z}<extra></extra>",
         "legendgroup": "see",
         "marker": {
          "color": "#FECB52",
          "symbol": "circle"
         },
         "mode": "markers",
         "name": "see",
         "scene": "scene",
         "showlegend": true,
         "type": "scatter3d",
         "x": [
          0.20906351506710052
         ],
         "y": [
          0.2038942575454712
         ],
         "z": [
          -0.2486225813627243
         ]
        },
        {
         "hovertemplate": "color=know<br>x=%{x}<br>y=%{y}<br>z=%{z}<extra></extra>",
         "legendgroup": "know",
         "marker": {
          "color": "#636efa",
          "symbol": "circle"
         },
         "mode": "markers",
         "name": "know",
         "scene": "scene",
         "showlegend": true,
         "type": "scatter3d",
         "x": [
          0.5672768354415894
         ],
         "y": [
          0.07824771106243134
         ],
         "z": [
          -0.20146265625953674
         ]
        },
        {
         "hovertemplate": "color=into<br>x=%{x}<br>y=%{y}<br>z=%{z}<extra></extra>",
         "legendgroup": "into",
         "marker": {
          "color": "#EF553B",
          "symbol": "circle"
         },
         "mode": "markers",
         "name": "into",
         "scene": "scene",
         "showlegend": true,
         "type": "scatter3d",
         "x": [
          -0.21853919327259064
         ],
         "y": [
          0.19128228724002838
         ],
         "z": [
          0.0589175820350647
         ]
        },
        {
         "hovertemplate": "color=made<br>x=%{x}<br>y=%{y}<br>z=%{z}<extra></extra>",
         "legendgroup": "made",
         "marker": {
          "color": "#00cc96",
          "symbol": "circle"
         },
         "mode": "markers",
         "name": "made",
         "scene": "scene",
         "showlegend": true,
         "type": "scatter3d",
         "x": [
          0.10261039435863495
         ],
         "y": [
          0.47144031524658203
         ],
         "z": [
          -0.1347380429506302
         ]
        },
        {
         "hovertemplate": "color=now<br>x=%{x}<br>y=%{y}<br>z=%{z}<extra></extra>",
         "legendgroup": "now",
         "marker": {
          "color": "#ab63fa",
          "symbol": "circle"
         },
         "mode": "markers",
         "name": "now",
         "scene": "scene",
         "showlegend": true,
         "type": "scatter3d",
         "x": [
          0.3393561542034149
         ],
         "y": [
          -0.1200902909040451
         ],
         "z": [
          -0.08538752794265747
         ]
        },
        {
         "hovertemplate": "color=eyes<br>x=%{x}<br>y=%{y}<br>z=%{z}<extra></extra>",
         "legendgroup": "eyes",
         "marker": {
          "color": "#FFA15A",
          "symbol": "circle"
         },
         "mode": "markers",
         "name": "eyes",
         "scene": "scene",
         "showlegend": true,
         "type": "scatter3d",
         "x": [
          -0.22951576113700867
         ],
         "y": [
          -0.019482305273413658
         ],
         "z": [
          -0.03499225899577141
         ]
        },
        {
         "hovertemplate": "color=black<br>x=%{x}<br>y=%{y}<br>z=%{z}<extra></extra>",
         "legendgroup": "black",
         "marker": {
          "color": "#19d3f3",
          "symbol": "circle"
         },
         "mode": "markers",
         "name": "black",
         "scene": "scene",
         "showlegend": true,
         "type": "scatter3d",
         "x": [
          -0.34455981850624084
         ],
         "y": [
          0.035107433795928955
         ],
         "z": [
          0.12346547096967697
         ]
        },
        {
         "hovertemplate": "color=told<br>x=%{x}<br>y=%{y}<br>z=%{z}<extra></extra>",
         "legendgroup": "told",
         "marker": {
          "color": "#FF6692",
          "symbol": "circle"
         },
         "mode": "markers",
         "name": "told",
         "scene": "scene",
         "showlegend": true,
         "type": "scatter3d",
         "x": [
          0.47378042340278625
         ],
         "y": [
          0.47774723172187805
         ],
         "z": [
          -0.19316183030605316
         ]
        },
        {
         "hovertemplate": "color=lady<br>x=%{x}<br>y=%{y}<br>z=%{z}<extra></extra>",
         "legendgroup": "lady",
         "marker": {
          "color": "#B6E880",
          "symbol": "circle"
         },
         "mode": "markers",
         "name": "lady",
         "scene": "scene",
         "showlegend": true,
         "type": "scatter3d",
         "x": [
          0.3833545446395874
         ],
         "y": [
          -0.06615806370973587
         ],
         "z": [
          0.14843232929706573
         ]
        },
        {
         "hovertemplate": "color=thought<br>x=%{x}<br>y=%{y}<br>z=%{z}<extra></extra>",
         "legendgroup": "thought",
         "marker": {
          "color": "#FF97FF",
          "symbol": "circle"
         },
         "mode": "markers",
         "name": "thought",
         "scene": "scene",
         "showlegend": true,
         "type": "scatter3d",
         "x": [
          0.3540709316730499
         ],
         "y": [
          0.3411581218242645
         ],
         "z": [
          -0.2867177426815033
         ]
        },
        {
         "hovertemplate": "color=time<br>x=%{x}<br>y=%{y}<br>z=%{z}<extra></extra>",
         "legendgroup": "time",
         "marker": {
          "color": "#FECB52",
          "symbol": "circle"
         },
         "mode": "markers",
         "name": "time",
         "scene": "scene",
         "showlegend": true,
         "type": "scatter3d",
         "x": [
          0.02736743912100792
         ],
         "y": [
          -0.1635930985212326
         ],
         "z": [
          -0.1083516925573349
         ]
        },
        {
         "hovertemplate": "color=then<br>x=%{x}<br>y=%{y}<br>z=%{z}<extra></extra>",
         "legendgroup": "then",
         "marker": {
          "color": "#636efa",
          "symbol": "circle"
         },
         "mode": "markers",
         "name": "then",
         "scene": "scene",
         "showlegend": true,
         "type": "scatter3d",
         "x": [
          -0.11121542006731033
         ],
         "y": [
          -0.04133191332221031
         ],
         "z": [
          0.10692889988422394
         ]
        },
        {
         "hovertemplate": "color=how<br>x=%{x}<br>y=%{y}<br>z=%{z}<extra></extra>",
         "legendgroup": "how",
         "marker": {
          "color": "#EF553B",
          "symbol": "circle"
         },
         "mode": "markers",
         "name": "how",
         "scene": "scene",
         "showlegend": true,
         "type": "scatter3d",
         "x": [
          0.2952767610549927
         ],
         "y": [
          -0.18663336336612701
         ],
         "z": [
          0.03851551562547684
         ]
        },
        {
         "hovertemplate": "color=long<br>x=%{x}<br>y=%{y}<br>z=%{z}<extra></extra>",
         "legendgroup": "long",
         "marker": {
          "color": "#00cc96",
          "symbol": "circle"
         },
         "mode": "markers",
         "name": "long",
         "scene": "scene",
         "showlegend": true,
         "type": "scatter3d",
         "x": [
          -0.0948541909456253
         ],
         "y": [
          0.0023156905081123114
         ],
         "z": [
          0.05499757081270218
         ]
        },
        {
         "hovertemplate": "color=has<br>x=%{x}<br>y=%{y}<br>z=%{z}<extra></extra>",
         "legendgroup": "has",
         "marker": {
          "color": "#ab63fa",
          "symbol": "circle"
         },
         "mode": "markers",
         "name": "has",
         "scene": "scene",
         "showlegend": true,
         "type": "scatter3d",
         "x": [
          0.4635477066040039
         ],
         "y": [
          -0.035179466009140015
         ],
         "z": [
          -0.08525068312883377
         ]
        },
        {
         "hovertemplate": "color=can<br>x=%{x}<br>y=%{y}<br>z=%{z}<extra></extra>",
         "legendgroup": "can",
         "marker": {
          "color": "#FFA15A",
          "symbol": "circle"
         },
         "mode": "markers",
         "name": "can",
         "scene": "scene",
         "showlegend": true,
         "type": "scatter3d",
         "x": [
          0.3741413950920105
         ],
         "y": [
          0.04414001479744911
         ],
         "z": [
          -0.12954267859458923
         ]
        },
        {
         "hovertemplate": "color=might<br>x=%{x}<br>y=%{y}<br>z=%{z}<extra></extra>",
         "legendgroup": "might",
         "marker": {
          "color": "#19d3f3",
          "symbol": "circle"
         },
         "mode": "markers",
         "name": "might",
         "scene": "scene",
         "showlegend": true,
         "type": "scatter3d",
         "x": [
          0.3260142207145691
         ],
         "y": [
          -0.027736401185393333
         ],
         "z": [
          -0.09213333576917648
         ]
        },
        {
         "hovertemplate": "color=us<br>x=%{x}<br>y=%{y}<br>z=%{z}<extra></extra>",
         "legendgroup": "us",
         "marker": {
          "color": "#FF6692",
          "symbol": "circle"
         },
         "mode": "markers",
         "name": "us",
         "scene": "scene",
         "showlegend": true,
         "type": "scatter3d",
         "x": [
          0.328372985124588
         ],
         "y": [
          -0.3894108831882477
         ],
         "z": [
          -0.15724025666713715
         ]
        },
        {
         "hovertemplate": "color=come<br>x=%{x}<br>y=%{y}<br>z=%{z}<extra></extra>",
         "legendgroup": "come",
         "marker": {
          "color": "#B6E880",
          "symbol": "circle"
         },
         "mode": "markers",
         "name": "come",
         "scene": "scene",
         "showlegend": true,
         "type": "scatter3d",
         "x": [
          0.24904750287532806
         ],
         "y": [
          0.10501085966825485
         ],
         "z": [
          -0.32823267579078674
         ]
        },
        {
         "hovertemplate": "color=where<br>x=%{x}<br>y=%{y}<br>z=%{z}<extra></extra>",
         "legendgroup": "where",
         "marker": {
          "color": "#FF97FF",
          "symbol": "circle"
         },
         "mode": "markers",
         "name": "where",
         "scene": "scene",
         "showlegend": true,
         "type": "scatter3d",
         "x": [
          -0.08819381892681122
         ],
         "y": [
          -0.09483680874109268
         ],
         "z": [
          0.038238514214754105
         ]
        }
       ],
       "layout": {
        "legend": {
         "title": {
          "text": "color"
         },
         "tracegroupgap": 0
        },
        "margin": {
         "t": 60
        },
        "scene": {
         "domain": {
          "x": [
           0,
           1
          ],
          "y": [
           0,
           1
          ]
         },
         "xaxis": {
          "title": {
           "text": "x"
          }
         },
         "yaxis": {
          "title": {
           "text": "y"
          }
         },
         "zaxis": {
          "title": {
           "text": "z"
          }
         }
        },
        "template": {
         "data": {
          "bar": [
           {
            "error_x": {
             "color": "#2a3f5f"
            },
            "error_y": {
             "color": "#2a3f5f"
            },
            "marker": {
             "line": {
              "color": "#E5ECF6",
              "width": 0.5
             },
             "pattern": {
              "fillmode": "overlay",
              "size": 10,
              "solidity": 0.2
             }
            },
            "type": "bar"
           }
          ],
          "barpolar": [
           {
            "marker": {
             "line": {
              "color": "#E5ECF6",
              "width": 0.5
             },
             "pattern": {
              "fillmode": "overlay",
              "size": 10,
              "solidity": 0.2
             }
            },
            "type": "barpolar"
           }
          ],
          "carpet": [
           {
            "aaxis": {
             "endlinecolor": "#2a3f5f",
             "gridcolor": "white",
             "linecolor": "white",
             "minorgridcolor": "white",
             "startlinecolor": "#2a3f5f"
            },
            "baxis": {
             "endlinecolor": "#2a3f5f",
             "gridcolor": "white",
             "linecolor": "white",
             "minorgridcolor": "white",
             "startlinecolor": "#2a3f5f"
            },
            "type": "carpet"
           }
          ],
          "choropleth": [
           {
            "colorbar": {
             "outlinewidth": 0,
             "ticks": ""
            },
            "type": "choropleth"
           }
          ],
          "contour": [
           {
            "colorbar": {
             "outlinewidth": 0,
             "ticks": ""
            },
            "colorscale": [
             [
              0,
              "#0d0887"
             ],
             [
              0.1111111111111111,
              "#46039f"
             ],
             [
              0.2222222222222222,
              "#7201a8"
             ],
             [
              0.3333333333333333,
              "#9c179e"
             ],
             [
              0.4444444444444444,
              "#bd3786"
             ],
             [
              0.5555555555555556,
              "#d8576b"
             ],
             [
              0.6666666666666666,
              "#ed7953"
             ],
             [
              0.7777777777777778,
              "#fb9f3a"
             ],
             [
              0.8888888888888888,
              "#fdca26"
             ],
             [
              1,
              "#f0f921"
             ]
            ],
            "type": "contour"
           }
          ],
          "contourcarpet": [
           {
            "colorbar": {
             "outlinewidth": 0,
             "ticks": ""
            },
            "type": "contourcarpet"
           }
          ],
          "heatmap": [
           {
            "colorbar": {
             "outlinewidth": 0,
             "ticks": ""
            },
            "colorscale": [
             [
              0,
              "#0d0887"
             ],
             [
              0.1111111111111111,
              "#46039f"
             ],
             [
              0.2222222222222222,
              "#7201a8"
             ],
             [
              0.3333333333333333,
              "#9c179e"
             ],
             [
              0.4444444444444444,
              "#bd3786"
             ],
             [
              0.5555555555555556,
              "#d8576b"
             ],
             [
              0.6666666666666666,
              "#ed7953"
             ],
             [
              0.7777777777777778,
              "#fb9f3a"
             ],
             [
              0.8888888888888888,
              "#fdca26"
             ],
             [
              1,
              "#f0f921"
             ]
            ],
            "type": "heatmap"
           }
          ],
          "heatmapgl": [
           {
            "colorbar": {
             "outlinewidth": 0,
             "ticks": ""
            },
            "colorscale": [
             [
              0,
              "#0d0887"
             ],
             [
              0.1111111111111111,
              "#46039f"
             ],
             [
              0.2222222222222222,
              "#7201a8"
             ],
             [
              0.3333333333333333,
              "#9c179e"
             ],
             [
              0.4444444444444444,
              "#bd3786"
             ],
             [
              0.5555555555555556,
              "#d8576b"
             ],
             [
              0.6666666666666666,
              "#ed7953"
             ],
             [
              0.7777777777777778,
              "#fb9f3a"
             ],
             [
              0.8888888888888888,
              "#fdca26"
             ],
             [
              1,
              "#f0f921"
             ]
            ],
            "type": "heatmapgl"
           }
          ],
          "histogram": [
           {
            "marker": {
             "pattern": {
              "fillmode": "overlay",
              "size": 10,
              "solidity": 0.2
             }
            },
            "type": "histogram"
           }
          ],
          "histogram2d": [
           {
            "colorbar": {
             "outlinewidth": 0,
             "ticks": ""
            },
            "colorscale": [
             [
              0,
              "#0d0887"
             ],
             [
              0.1111111111111111,
              "#46039f"
             ],
             [
              0.2222222222222222,
              "#7201a8"
             ],
             [
              0.3333333333333333,
              "#9c179e"
             ],
             [
              0.4444444444444444,
              "#bd3786"
             ],
             [
              0.5555555555555556,
              "#d8576b"
             ],
             [
              0.6666666666666666,
              "#ed7953"
             ],
             [
              0.7777777777777778,
              "#fb9f3a"
             ],
             [
              0.8888888888888888,
              "#fdca26"
             ],
             [
              1,
              "#f0f921"
             ]
            ],
            "type": "histogram2d"
           }
          ],
          "histogram2dcontour": [
           {
            "colorbar": {
             "outlinewidth": 0,
             "ticks": ""
            },
            "colorscale": [
             [
              0,
              "#0d0887"
             ],
             [
              0.1111111111111111,
              "#46039f"
             ],
             [
              0.2222222222222222,
              "#7201a8"
             ],
             [
              0.3333333333333333,
              "#9c179e"
             ],
             [
              0.4444444444444444,
              "#bd3786"
             ],
             [
              0.5555555555555556,
              "#d8576b"
             ],
             [
              0.6666666666666666,
              "#ed7953"
             ],
             [
              0.7777777777777778,
              "#fb9f3a"
             ],
             [
              0.8888888888888888,
              "#fdca26"
             ],
             [
              1,
              "#f0f921"
             ]
            ],
            "type": "histogram2dcontour"
           }
          ],
          "mesh3d": [
           {
            "colorbar": {
             "outlinewidth": 0,
             "ticks": ""
            },
            "type": "mesh3d"
           }
          ],
          "parcoords": [
           {
            "line": {
             "colorbar": {
              "outlinewidth": 0,
              "ticks": ""
             }
            },
            "type": "parcoords"
           }
          ],
          "pie": [
           {
            "automargin": true,
            "type": "pie"
           }
          ],
          "scatter": [
           {
            "fillpattern": {
             "fillmode": "overlay",
             "size": 10,
             "solidity": 0.2
            },
            "type": "scatter"
           }
          ],
          "scatter3d": [
           {
            "line": {
             "colorbar": {
              "outlinewidth": 0,
              "ticks": ""
             }
            },
            "marker": {
             "colorbar": {
              "outlinewidth": 0,
              "ticks": ""
             }
            },
            "type": "scatter3d"
           }
          ],
          "scattercarpet": [
           {
            "marker": {
             "colorbar": {
              "outlinewidth": 0,
              "ticks": ""
             }
            },
            "type": "scattercarpet"
           }
          ],
          "scattergeo": [
           {
            "marker": {
             "colorbar": {
              "outlinewidth": 0,
              "ticks": ""
             }
            },
            "type": "scattergeo"
           }
          ],
          "scattergl": [
           {
            "marker": {
             "colorbar": {
              "outlinewidth": 0,
              "ticks": ""
             }
            },
            "type": "scattergl"
           }
          ],
          "scattermapbox": [
           {
            "marker": {
             "colorbar": {
              "outlinewidth": 0,
              "ticks": ""
             }
            },
            "type": "scattermapbox"
           }
          ],
          "scatterpolar": [
           {
            "marker": {
             "colorbar": {
              "outlinewidth": 0,
              "ticks": ""
             }
            },
            "type": "scatterpolar"
           }
          ],
          "scatterpolargl": [
           {
            "marker": {
             "colorbar": {
              "outlinewidth": 0,
              "ticks": ""
             }
            },
            "type": "scatterpolargl"
           }
          ],
          "scatterternary": [
           {
            "marker": {
             "colorbar": {
              "outlinewidth": 0,
              "ticks": ""
             }
            },
            "type": "scatterternary"
           }
          ],
          "surface": [
           {
            "colorbar": {
             "outlinewidth": 0,
             "ticks": ""
            },
            "colorscale": [
             [
              0,
              "#0d0887"
             ],
             [
              0.1111111111111111,
              "#46039f"
             ],
             [
              0.2222222222222222,
              "#7201a8"
             ],
             [
              0.3333333333333333,
              "#9c179e"
             ],
             [
              0.4444444444444444,
              "#bd3786"
             ],
             [
              0.5555555555555556,
              "#d8576b"
             ],
             [
              0.6666666666666666,
              "#ed7953"
             ],
             [
              0.7777777777777778,
              "#fb9f3a"
             ],
             [
              0.8888888888888888,
              "#fdca26"
             ],
             [
              1,
              "#f0f921"
             ]
            ],
            "type": "surface"
           }
          ],
          "table": [
           {
            "cells": {
             "fill": {
              "color": "#EBF0F8"
             },
             "line": {
              "color": "white"
             }
            },
            "header": {
             "fill": {
              "color": "#C8D4E3"
             },
             "line": {
              "color": "white"
             }
            },
            "type": "table"
           }
          ]
         },
         "layout": {
          "annotationdefaults": {
           "arrowcolor": "#2a3f5f",
           "arrowhead": 0,
           "arrowwidth": 1
          },
          "autotypenumbers": "strict",
          "coloraxis": {
           "colorbar": {
            "outlinewidth": 0,
            "ticks": ""
           }
          },
          "colorscale": {
           "diverging": [
            [
             0,
             "#8e0152"
            ],
            [
             0.1,
             "#c51b7d"
            ],
            [
             0.2,
             "#de77ae"
            ],
            [
             0.3,
             "#f1b6da"
            ],
            [
             0.4,
             "#fde0ef"
            ],
            [
             0.5,
             "#f7f7f7"
            ],
            [
             0.6,
             "#e6f5d0"
            ],
            [
             0.7,
             "#b8e186"
            ],
            [
             0.8,
             "#7fbc41"
            ],
            [
             0.9,
             "#4d9221"
            ],
            [
             1,
             "#276419"
            ]
           ],
           "sequential": [
            [
             0,
             "#0d0887"
            ],
            [
             0.1111111111111111,
             "#46039f"
            ],
            [
             0.2222222222222222,
             "#7201a8"
            ],
            [
             0.3333333333333333,
             "#9c179e"
            ],
            [
             0.4444444444444444,
             "#bd3786"
            ],
            [
             0.5555555555555556,
             "#d8576b"
            ],
            [
             0.6666666666666666,
             "#ed7953"
            ],
            [
             0.7777777777777778,
             "#fb9f3a"
            ],
            [
             0.8888888888888888,
             "#fdca26"
            ],
            [
             1,
             "#f0f921"
            ]
           ],
           "sequentialminus": [
            [
             0,
             "#0d0887"
            ],
            [
             0.1111111111111111,
             "#46039f"
            ],
            [
             0.2222222222222222,
             "#7201a8"
            ],
            [
             0.3333333333333333,
             "#9c179e"
            ],
            [
             0.4444444444444444,
             "#bd3786"
            ],
            [
             0.5555555555555556,
             "#d8576b"
            ],
            [
             0.6666666666666666,
             "#ed7953"
            ],
            [
             0.7777777777777778,
             "#fb9f3a"
            ],
            [
             0.8888888888888888,
             "#fdca26"
            ],
            [
             1,
             "#f0f921"
            ]
           ]
          },
          "colorway": [
           "#636efa",
           "#EF553B",
           "#00cc96",
           "#ab63fa",
           "#FFA15A",
           "#19d3f3",
           "#FF6692",
           "#B6E880",
           "#FF97FF",
           "#FECB52"
          ],
          "font": {
           "color": "#2a3f5f"
          },
          "geo": {
           "bgcolor": "white",
           "lakecolor": "white",
           "landcolor": "#E5ECF6",
           "showlakes": true,
           "showland": true,
           "subunitcolor": "white"
          },
          "hoverlabel": {
           "align": "left"
          },
          "hovermode": "closest",
          "mapbox": {
           "style": "light"
          },
          "paper_bgcolor": "white",
          "plot_bgcolor": "#E5ECF6",
          "polar": {
           "angularaxis": {
            "gridcolor": "white",
            "linecolor": "white",
            "ticks": ""
           },
           "bgcolor": "#E5ECF6",
           "radialaxis": {
            "gridcolor": "white",
            "linecolor": "white",
            "ticks": ""
           }
          },
          "scene": {
           "xaxis": {
            "backgroundcolor": "#E5ECF6",
            "gridcolor": "white",
            "gridwidth": 2,
            "linecolor": "white",
            "showbackground": true,
            "ticks": "",
            "zerolinecolor": "white"
           },
           "yaxis": {
            "backgroundcolor": "#E5ECF6",
            "gridcolor": "white",
            "gridwidth": 2,
            "linecolor": "white",
            "showbackground": true,
            "ticks": "",
            "zerolinecolor": "white"
           },
           "zaxis": {
            "backgroundcolor": "#E5ECF6",
            "gridcolor": "white",
            "gridwidth": 2,
            "linecolor": "white",
            "showbackground": true,
            "ticks": "",
            "zerolinecolor": "white"
           }
          },
          "shapedefaults": {
           "line": {
            "color": "#2a3f5f"
           }
          },
          "ternary": {
           "aaxis": {
            "gridcolor": "white",
            "linecolor": "white",
            "ticks": ""
           },
           "baxis": {
            "gridcolor": "white",
            "linecolor": "white",
            "ticks": ""
           },
           "bgcolor": "#E5ECF6",
           "caxis": {
            "gridcolor": "white",
            "linecolor": "white",
            "ticks": ""
           }
          },
          "title": {
           "x": 0.05
          },
          "xaxis": {
           "automargin": true,
           "gridcolor": "white",
           "linecolor": "white",
           "ticks": "",
           "title": {
            "standoff": 15
           },
           "zerolinecolor": "white",
           "zerolinewidth": 2
          },
          "yaxis": {
           "automargin": true,
           "gridcolor": "white",
           "linecolor": "white",
           "ticks": "",
           "title": {
            "standoff": 15
           },
           "zerolinecolor": "white",
           "zerolinewidth": 2
          }
         }
        }
       }
      },
      "text/html": [
       "<div>                            <div id=\"875efc99-c7ab-49ab-bd8a-3ccb8c6ef0ca\" class=\"plotly-graph-div\" style=\"height:525px; width:100%;\"></div>            <script type=\"text/javascript\">                require([\"plotly\"], function(Plotly) {                    window.PLOTLYENV=window.PLOTLYENV || {};                                    if (document.getElementById(\"875efc99-c7ab-49ab-bd8a-3ccb8c6ef0ca\")) {                    Plotly.newPlot(                        \"875efc99-c7ab-49ab-bd8a-3ccb8c6ef0ca\",                        [{\"hovertemplate\":\"color=and<br>x=%{x}<br>y=%{y}<br>z=%{z}<extra></extra>\",\"legendgroup\":\"and\",\"marker\":{\"color\":\"#636efa\",\"symbol\":\"circle\"},\"mode\":\"markers\",\"name\":\"and\",\"scene\":\"scene\",\"showlegend\":true,\"x\":[-0.37421032786369324],\"y\":[0.03314909711480141],\"z\":[0.12488871067762375],\"type\":\"scatter3d\"},{\"hovertemplate\":\"color=to<br>x=%{x}<br>y=%{y}<br>z=%{z}<extra></extra>\",\"legendgroup\":\"to\",\"marker\":{\"color\":\"#EF553B\",\"symbol\":\"circle\"},\"mode\":\"markers\",\"name\":\"to\",\"scene\":\"scene\",\"showlegend\":true,\"x\":[0.28064069151878357],\"y\":[-0.15670698881149292],\"z\":[0.024373942986130714],\"type\":\"scatter3d\"},{\"hovertemplate\":\"color=of<br>x=%{x}<br>y=%{y}<br>z=%{z}<extra></extra>\",\"legendgroup\":\"of\",\"marker\":{\"color\":\"#00cc96\",\"symbol\":\"circle\"},\"mode\":\"markers\",\"name\":\"of\",\"scene\":\"scene\",\"showlegend\":true,\"x\":[-0.019924433901906013],\"y\":[0.17041245102882385],\"z\":[0.008444567210972309],\"type\":\"scatter3d\"},{\"hovertemplate\":\"color=he<br>x=%{x}<br>y=%{y}<br>z=%{z}<extra></extra>\",\"legendgroup\":\"he\",\"marker\":{\"color\":\"#ab63fa\",\"symbol\":\"circle\"},\"mode\":\"markers\",\"name\":\"he\",\"scene\":\"scene\",\"showlegend\":true,\"x\":[0.04643244296312332],\"y\":[-0.4303606152534485],\"z\":[0.33283737301826477],\"type\":\"scatter3d\"},{\"hovertemplate\":\"color=his<br>x=%{x}<br>y=%{y}<br>z=%{z}<extra></extra>\",\"legendgroup\":\"his\",\"marker\":{\"color\":\"#FFA15A\",\"symbol\":\"circle\"},\"mode\":\"markers\",\"name\":\"his\",\"scene\":\"scene\",\"showlegend\":true,\"x\":[-0.09884766489267349],\"y\":[0.12277068942785263],\"z\":[0.41312724351882935],\"type\":\"scatter3d\"},{\"hovertemplate\":\"color=was<br>x=%{x}<br>y=%{y}<br>z=%{z}<extra></extra>\",\"legendgroup\":\"was\",\"marker\":{\"color\":\"#19d3f3\",\"symbol\":\"circle\"},\"mode\":\"markers\",\"name\":\"was\",\"scene\":\"scene\",\"showlegend\":true,\"x\":[0.08284617960453033],\"y\":[0.19191808998584747],\"z\":[-0.07432832568883896],\"type\":\"scatter3d\"},{\"hovertemplate\":\"color=you<br>x=%{x}<br>y=%{y}<br>z=%{z}<extra></extra>\",\"legendgroup\":\"you\",\"marker\":{\"color\":\"#FF6692\",\"symbol\":\"circle\"},\"mode\":\"markers\",\"name\":\"you\",\"scene\":\"scene\",\"showlegend\":true,\"x\":[0.514069676399231],\"y\":[-0.35324627161026],\"z\":[0.03151639923453331],\"type\":\"scatter3d\"},{\"hovertemplate\":\"color=her<br>x=%{x}<br>y=%{y}<br>z=%{z}<extra></extra>\",\"legendgroup\":\"her\",\"marker\":{\"color\":\"#B6E880\",\"symbol\":\"circle\"},\"mode\":\"markers\",\"name\":\"her\",\"scene\":\"scene\",\"showlegend\":true,\"x\":[-0.10000148415565491],\"y\":[-0.05913284048438072],\"z\":[0.27599334716796875],\"type\":\"scatter3d\"},{\"hovertemplate\":\"color=in<br>x=%{x}<br>y=%{y}<br>z=%{z}<extra></extra>\",\"legendgroup\":\"in\",\"marker\":{\"color\":\"#FF97FF\",\"symbol\":\"circle\"},\"mode\":\"markers\",\"name\":\"in\",\"scene\":\"scene\",\"showlegend\":true,\"x\":[-0.07158016413450241],\"y\":[0.14702105522155762],\"z\":[0.046300746500492096],\"type\":\"scatter3d\"},{\"hovertemplate\":\"color=it<br>x=%{x}<br>y=%{y}<br>z=%{z}<extra></extra>\",\"legendgroup\":\"it\",\"marker\":{\"color\":\"#FECB52\",\"symbol\":\"circle\"},\"mode\":\"markers\",\"name\":\"it\",\"scene\":\"scene\",\"showlegend\":true,\"x\":[0.0865129753947258],\"y\":[-0.42062291502952576],\"z\":[0.06335245072841644],\"type\":\"scatter3d\"},{\"hovertemplate\":\"color=had<br>x=%{x}<br>y=%{y}<br>z=%{z}<extra></extra>\",\"legendgroup\":\"had\",\"marker\":{\"color\":\"#636efa\",\"symbol\":\"circle\"},\"mode\":\"markers\",\"name\":\"had\",\"scene\":\"scene\",\"showlegend\":true,\"x\":[0.08385546505451202],\"y\":[0.009669419378042221],\"z\":[-0.05073271319270134],\"type\":\"scatter3d\"},{\"hovertemplate\":\"color=that<br>x=%{x}<br>y=%{y}<br>z=%{z}<extra></extra>\",\"legendgroup\":\"that\",\"marker\":{\"color\":\"#EF553B\",\"symbol\":\"circle\"},\"mode\":\"markers\",\"name\":\"that\",\"scene\":\"scene\",\"showlegend\":true,\"x\":[0.3397618532180786],\"y\":[-0.40114906430244446],\"z\":[0.09044510126113892],\"type\":\"scatter3d\"},{\"hovertemplate\":\"color=she<br>x=%{x}<br>y=%{y}<br>z=%{z}<extra></extra>\",\"legendgroup\":\"she\",\"marker\":{\"color\":\"#00cc96\",\"symbol\":\"circle\"},\"mode\":\"markers\",\"name\":\"she\",\"scene\":\"scene\",\"showlegend\":true,\"x\":[-0.002810065168887377],\"y\":[-0.3628446161746979],\"z\":[0.25923052430152893],\"type\":\"scatter3d\"},{\"hovertemplate\":\"color=as<br>x=%{x}<br>y=%{y}<br>z=%{z}<extra></extra>\",\"legendgroup\":\"as\",\"marker\":{\"color\":\"#ab63fa\",\"symbol\":\"circle\"},\"mode\":\"markers\",\"name\":\"as\",\"scene\":\"scene\",\"showlegend\":true,\"x\":[-0.012756356969475746],\"y\":[-0.023607635870575905],\"z\":[0.1055789440870285],\"type\":\"scatter3d\"},{\"hovertemplate\":\"color=with<br>x=%{x}<br>y=%{y}<br>z=%{z}<extra></extra>\",\"legendgroup\":\"with\",\"marker\":{\"color\":\"#FFA15A\",\"symbol\":\"circle\"},\"mode\":\"markers\",\"name\":\"with\",\"scene\":\"scene\",\"showlegend\":true,\"x\":[-0.06681082397699356],\"y\":[0.37029820680618286],\"z\":[0.06852317601442337],\"type\":\"scatter3d\"},{\"hovertemplate\":\"color=him<br>x=%{x}<br>y=%{y}<br>z=%{z}<extra></extra>\",\"legendgroup\":\"him\",\"marker\":{\"color\":\"#19d3f3\",\"symbol\":\"circle\"},\"mode\":\"markers\",\"name\":\"him\",\"scene\":\"scene\",\"showlegend\":true,\"x\":[-0.009049275889992714],\"y\":[-0.3595772385597229],\"z\":[0.22398865222930908],\"type\":\"scatter3d\"},{\"hovertemplate\":\"color=not<br>x=%{x}<br>y=%{y}<br>z=%{z}<extra></extra>\",\"legendgroup\":\"not\",\"marker\":{\"color\":\"#FF6692\",\"symbol\":\"circle\"},\"mode\":\"markers\",\"name\":\"not\",\"scene\":\"scene\",\"showlegend\":true,\"x\":[0.5017345547676086],\"y\":[-0.12501786649227142],\"z\":[-0.06301219016313553],\"type\":\"scatter3d\"},{\"hovertemplate\":\"color=but<br>x=%{x}<br>y=%{y}<br>z=%{z}<extra></extra>\",\"legendgroup\":\"but\",\"marker\":{\"color\":\"#B6E880\",\"symbol\":\"circle\"},\"mode\":\"markers\",\"name\":\"but\",\"scene\":\"scene\",\"showlegend\":true,\"x\":[0.2582268714904785],\"y\":[-0.18876969814300537],\"z\":[-0.01664949208498001],\"type\":\"scatter3d\"},{\"hovertemplate\":\"color=for<br>x=%{x}<br>y=%{y}<br>z=%{z}<extra></extra>\",\"legendgroup\":\"for\",\"marker\":{\"color\":\"#FF97FF\",\"symbol\":\"circle\"},\"mode\":\"markers\",\"name\":\"for\",\"scene\":\"scene\",\"showlegend\":true,\"x\":[0.4945261478424072],\"y\":[0.052709754556417465],\"z\":[-0.06908801943063736],\"type\":\"scatter3d\"},{\"hovertemplate\":\"color=they<br>x=%{x}<br>y=%{y}<br>z=%{z}<extra></extra>\",\"legendgroup\":\"they\",\"marker\":{\"color\":\"#FECB52\",\"symbol\":\"circle\"},\"mode\":\"markers\",\"name\":\"they\",\"scene\":\"scene\",\"showlegend\":true,\"x\":[-0.06821132451295853],\"y\":[-0.5112530589103699],\"z\":[-0.06511688977479935],\"type\":\"scatter3d\"},{\"hovertemplate\":\"color=is<br>x=%{x}<br>y=%{y}<br>z=%{z}<extra></extra>\",\"legendgroup\":\"is\",\"marker\":{\"color\":\"#636efa\",\"symbol\":\"circle\"},\"mode\":\"markers\",\"name\":\"is\",\"scene\":\"scene\",\"showlegend\":true,\"x\":[0.5746250152587891],\"y\":[0.07896915078163147],\"z\":[-0.22649438679218292],\"type\":\"scatter3d\"},{\"hovertemplate\":\"color=at<br>x=%{x}<br>y=%{y}<br>z=%{z}<extra></extra>\",\"legendgroup\":\"at\",\"marker\":{\"color\":\"#EF553B\",\"symbol\":\"circle\"},\"mode\":\"markers\",\"name\":\"at\",\"scene\":\"scene\",\"showlegend\":true,\"x\":[0.015033567324280739],\"y\":[0.24457955360412598],\"z\":[0.17517824470996857],\"type\":\"scatter3d\"},{\"hovertemplate\":\"color=on<br>x=%{x}<br>y=%{y}<br>z=%{z}<extra></extra>\",\"legendgroup\":\"on\",\"marker\":{\"color\":\"#00cc96\",\"symbol\":\"circle\"},\"mode\":\"markers\",\"name\":\"on\",\"scene\":\"scene\",\"showlegend\":true,\"x\":[-0.13985513150691986],\"y\":[0.22925642132759094],\"z\":[0.08589967340230942],\"type\":\"scatter3d\"},{\"hovertemplate\":\"color=said<br>x=%{x}<br>y=%{y}<br>z=%{z}<extra></extra>\",\"legendgroup\":\"said\",\"marker\":{\"color\":\"#ab63fa\",\"symbol\":\"circle\"},\"mode\":\"markers\",\"name\":\"said\",\"scene\":\"scene\",\"showlegend\":true,\"x\":[0.5867398977279663],\"y\":[0.41887545585632324],\"z\":[-0.1595858931541443],\"type\":\"scatter3d\"},{\"hovertemplate\":\"color=my<br>x=%{x}<br>y=%{y}<br>z=%{z}<extra></extra>\",\"legendgroup\":\"my\",\"marker\":{\"color\":\"#FFA15A\",\"symbol\":\"circle\"},\"mode\":\"markers\",\"name\":\"my\",\"scene\":\"scene\",\"showlegend\":true,\"x\":[0.5544717311859131],\"y\":[-0.010104040615260601],\"z\":[0.16623924672603607],\"type\":\"scatter3d\"},{\"hovertemplate\":\"color=have<br>x=%{x}<br>y=%{y}<br>z=%{z}<extra></extra>\",\"legendgroup\":\"have\",\"marker\":{\"color\":\"#19d3f3\",\"symbol\":\"circle\"},\"mode\":\"markers\",\"name\":\"have\",\"scene\":\"scene\",\"showlegend\":true,\"x\":[0.39640572667121887],\"y\":[-0.18279753625392914],\"z\":[-0.15185676515102386],\"type\":\"scatter3d\"},{\"hovertemplate\":\"color=be<br>x=%{x}<br>y=%{y}<br>z=%{z}<extra></extra>\",\"legendgroup\":\"be\",\"marker\":{\"color\":\"#FF6692\",\"symbol\":\"circle\"},\"mode\":\"markers\",\"name\":\"be\",\"scene\":\"scene\",\"showlegend\":true,\"x\":[0.30440250039100647],\"y\":[-0.17832337319850922],\"z\":[-0.196102574467659],\"type\":\"scatter3d\"},{\"hovertemplate\":\"color=lord<br>x=%{x}<br>y=%{y}<br>z=%{z}<extra></extra>\",\"legendgroup\":\"lord\",\"marker\":{\"color\":\"#B6E880\",\"symbol\":\"circle\"},\"mode\":\"markers\",\"name\":\"lord\",\"scene\":\"scene\",\"showlegend\":true,\"x\":[0.465566486120224],\"y\":[-0.07886780798435211],\"z\":[0.10902412235736847],\"type\":\"scatter3d\"},{\"hovertemplate\":\"color=them<br>x=%{x}<br>y=%{y}<br>z=%{z}<extra></extra>\",\"legendgroup\":\"them\",\"marker\":{\"color\":\"#FF97FF\",\"symbol\":\"circle\"},\"mode\":\"markers\",\"name\":\"them\",\"scene\":\"scene\",\"showlegend\":true,\"x\":[-0.12256324291229248],\"y\":[-0.49289456009864807],\"z\":[-0.10986063629388809],\"type\":\"scatter3d\"},{\"hovertemplate\":\"color=no<br>x=%{x}<br>y=%{y}<br>z=%{z}<extra></extra>\",\"legendgroup\":\"no\",\"marker\":{\"color\":\"#FECB52\",\"symbol\":\"circle\"},\"mode\":\"markers\",\"name\":\"no\",\"scene\":\"scene\",\"showlegend\":true,\"x\":[0.4470579922199249],\"y\":[-0.11225993186235428],\"z\":[-0.010101549327373505],\"type\":\"scatter3d\"},{\"hovertemplate\":\"color=from<br>x=%{x}<br>y=%{y}<br>z=%{z}<extra></extra>\",\"legendgroup\":\"from\",\"marker\":{\"color\":\"#636efa\",\"symbol\":\"circle\"},\"mode\":\"markers\",\"name\":\"from\",\"scene\":\"scene\",\"showlegend\":true,\"x\":[-0.21075697243213654],\"y\":[0.19990387558937073],\"z\":[0.04639819636940956],\"type\":\"scatter3d\"},{\"hovertemplate\":\"color=would<br>x=%{x}<br>y=%{y}<br>z=%{z}<extra></extra>\",\"legendgroup\":\"would\",\"marker\":{\"color\":\"#EF553B\",\"symbol\":\"circle\"},\"mode\":\"markers\",\"name\":\"would\",\"scene\":\"scene\",\"showlegend\":true,\"x\":[0.36149412393569946],\"y\":[0.00944606401026249],\"z\":[-0.17169952392578125],\"type\":\"scatter3d\"},{\"hovertemplate\":\"color=were<br>x=%{x}<br>y=%{y}<br>z=%{z}<extra></extra>\",\"legendgroup\":\"were\",\"marker\":{\"color\":\"#00cc96\",\"symbol\":\"circle\"},\"mode\":\"markers\",\"name\":\"were\",\"scene\":\"scene\",\"showlegend\":true,\"x\":[-0.07056234776973724],\"y\":[0.08218313008546829],\"z\":[-0.2762621343135834],\"type\":\"scatter3d\"},{\"hovertemplate\":\"color=me<br>x=%{x}<br>y=%{y}<br>z=%{z}<extra></extra>\",\"legendgroup\":\"me\",\"marker\":{\"color\":\"#ab63fa\",\"symbol\":\"circle\"},\"mode\":\"markers\",\"name\":\"me\",\"scene\":\"scene\",\"showlegend\":true,\"x\":[0.4589879810810089],\"y\":[-0.33081868290901184],\"z\":[0.09504112601280212],\"type\":\"scatter3d\"},{\"hovertemplate\":\"color=your<br>x=%{x}<br>y=%{y}<br>z=%{z}<extra></extra>\",\"legendgroup\":\"your\",\"marker\":{\"color\":\"#FFA15A\",\"symbol\":\"circle\"},\"mode\":\"markers\",\"name\":\"your\",\"scene\":\"scene\",\"showlegend\":true,\"x\":[0.49112460017204285],\"y\":[0.02965589426457882],\"z\":[0.09493038803339005],\"type\":\"scatter3d\"},{\"hovertemplate\":\"color=one<br>x=%{x}<br>y=%{y}<br>z=%{z}<extra></extra>\",\"legendgroup\":\"one\",\"marker\":{\"color\":\"#19d3f3\",\"symbol\":\"circle\"},\"mode\":\"markers\",\"name\":\"one\",\"scene\":\"scene\",\"showlegend\":true,\"x\":[0.032914627343416214],\"y\":[-0.25894150137901306],\"z\":[0.11272015422582626],\"type\":\"scatter3d\"},{\"hovertemplate\":\"color=all<br>x=%{x}<br>y=%{y}<br>z=%{z}<extra></extra>\",\"legendgroup\":\"all\",\"marker\":{\"color\":\"#FF6692\",\"symbol\":\"circle\"},\"mode\":\"markers\",\"name\":\"all\",\"scene\":\"scene\",\"showlegend\":true,\"x\":[0.14895810186862946],\"y\":[-0.17489507794380188],\"z\":[-0.17793942987918854],\"type\":\"scatter3d\"},{\"hovertemplate\":\"color=when<br>x=%{x}<br>y=%{y}<br>z=%{z}<extra></extra>\",\"legendgroup\":\"when\",\"marker\":{\"color\":\"#B6E880\",\"symbol\":\"circle\"},\"mode\":\"markers\",\"name\":\"when\",\"scene\":\"scene\",\"showlegend\":true,\"x\":[0.04208233579993248],\"y\":[-0.11529301106929779],\"z\":[0.1713479459285736],\"type\":\"scatter3d\"},{\"hovertemplate\":\"color=will<br>x=%{x}<br>y=%{y}<br>z=%{z}<extra></extra>\",\"legendgroup\":\"will\",\"marker\":{\"color\":\"#FF97FF\",\"symbol\":\"circle\"},\"mode\":\"markers\",\"name\":\"will\",\"scene\":\"scene\",\"showlegend\":true,\"x\":[0.466416597366333],\"y\":[0.05584334954619408],\"z\":[-0.21077841520309448],\"type\":\"scatter3d\"},{\"hovertemplate\":\"color=ser<br>x=%{x}<br>y=%{y}<br>z=%{z}<extra></extra>\",\"legendgroup\":\"ser\",\"marker\":{\"color\":\"#FECB52\",\"symbol\":\"circle\"},\"mode\":\"markers\",\"name\":\"ser\",\"scene\":\"scene\",\"showlegend\":true,\"x\":[0.3273542821407318],\"y\":[-0.010588058270514011],\"z\":[0.18966366350650787],\"type\":\"scatter3d\"},{\"hovertemplate\":\"color=if<br>x=%{x}<br>y=%{y}<br>z=%{z}<extra></extra>\",\"legendgroup\":\"if\",\"marker\":{\"color\":\"#636efa\",\"symbol\":\"circle\"},\"mode\":\"markers\",\"name\":\"if\",\"scene\":\"scene\",\"showlegend\":true,\"x\":[0.3669546842575073],\"y\":[-0.1573389172554016],\"z\":[-0.02565552294254303],\"type\":\"scatter3d\"},{\"hovertemplate\":\"color=so<br>x=%{x}<br>y=%{y}<br>z=%{z}<extra></extra>\",\"legendgroup\":\"so\",\"marker\":{\"color\":\"#EF553B\",\"symbol\":\"circle\"},\"mode\":\"markers\",\"name\":\"so\",\"scene\":\"scene\",\"showlegend\":true,\"x\":[0.17732129991054535],\"y\":[-0.14593948423862457],\"z\":[-0.04167018458247185],\"type\":\"scatter3d\"},{\"hovertemplate\":\"color=their<br>x=%{x}<br>y=%{y}<br>z=%{z}<extra></extra>\",\"legendgroup\":\"their\",\"marker\":{\"color\":\"#00cc96\",\"symbol\":\"circle\"},\"mode\":\"markers\",\"name\":\"their\",\"scene\":\"scene\",\"showlegend\":true,\"x\":[-0.14199987053871155],\"y\":[-0.109201580286026],\"z\":[-0.08579543232917786],\"type\":\"scatter3d\"},{\"hovertemplate\":\"color=we<br>x=%{x}<br>y=%{y}<br>z=%{z}<extra></extra>\",\"legendgroup\":\"we\",\"marker\":{\"color\":\"#ab63fa\",\"symbol\":\"circle\"},\"mode\":\"markers\",\"name\":\"we\",\"scene\":\"scene\",\"showlegend\":true,\"x\":[0.3041859567165375],\"y\":[-0.3985423445701599],\"z\":[-0.17527611553668976],\"type\":\"scatter3d\"},{\"hovertemplate\":\"color=could<br>x=%{x}<br>y=%{y}<br>z=%{z}<extra></extra>\",\"legendgroup\":\"could\",\"marker\":{\"color\":\"#FFA15A\",\"symbol\":\"circle\"},\"mode\":\"markers\",\"name\":\"could\",\"scene\":\"scene\",\"showlegend\":true,\"x\":[0.1282062530517578],\"y\":[0.09587637335062027],\"z\":[-0.1246614009141922],\"type\":\"scatter3d\"},{\"hovertemplate\":\"color=are<br>x=%{x}<br>y=%{y}<br>z=%{z}<extra></extra>\",\"legendgroup\":\"are\",\"marker\":{\"color\":\"#19d3f3\",\"symbol\":\"circle\"},\"mode\":\"markers\",\"name\":\"are\",\"scene\":\"scene\",\"showlegend\":true,\"x\":[0.3859056830406189],\"y\":[0.02314656227827072],\"z\":[-0.2848685383796692],\"type\":\"scatter3d\"},{\"hovertemplate\":\"color=man<br>x=%{x}<br>y=%{y}<br>z=%{z}<extra></extra>\",\"legendgroup\":\"man\",\"marker\":{\"color\":\"#FF6692\",\"symbol\":\"circle\"},\"mode\":\"markers\",\"name\":\"man\",\"scene\":\"scene\",\"showlegend\":true,\"x\":[0.06253796815872192],\"y\":[-0.27249547839164734],\"z\":[0.2080293446779251],\"type\":\"scatter3d\"},{\"hovertemplate\":\"color=there<br>x=%{x}<br>y=%{y}<br>z=%{z}<extra></extra>\",\"legendgroup\":\"there\",\"marker\":{\"color\":\"#B6E880\",\"symbol\":\"circle\"},\"mode\":\"markers\",\"name\":\"there\",\"scene\":\"scene\",\"showlegend\":true,\"x\":[0.05932910740375519],\"y\":[-0.1068144366145134],\"z\":[-0.11231961846351624],\"type\":\"scatter3d\"},{\"hovertemplate\":\"color=this<br>x=%{x}<br>y=%{y}<br>z=%{z}<extra></extra>\",\"legendgroup\":\"this\",\"marker\":{\"color\":\"#FF97FF\",\"symbol\":\"circle\"},\"mode\":\"markers\",\"name\":\"this\",\"scene\":\"scene\",\"showlegend\":true,\"x\":[0.42212939262390137],\"y\":[-0.21139739453792572],\"z\":[-0.01352439820766449],\"type\":\"scatter3d\"},{\"hovertemplate\":\"color=up<br>x=%{x}<br>y=%{y}<br>z=%{z}<extra></extra>\",\"legendgroup\":\"up\",\"marker\":{\"color\":\"#FECB52\",\"symbol\":\"circle\"},\"mode\":\"markers\",\"name\":\"up\",\"scene\":\"scene\",\"showlegend\":true,\"x\":[-0.29318827390670776],\"y\":[-0.10959207266569138],\"z\":[0.10627589374780655],\"type\":\"scatter3d\"},{\"hovertemplate\":\"color=been<br>x=%{x}<br>y=%{y}<br>z=%{z}<extra></extra>\",\"legendgroup\":\"been\",\"marker\":{\"color\":\"#636efa\",\"symbol\":\"circle\"},\"mode\":\"markers\",\"name\":\"been\",\"scene\":\"scene\",\"showlegend\":true,\"x\":[0.11683963239192963],\"y\":[0.05719916895031929],\"z\":[-0.1302054524421692],\"type\":\"scatter3d\"},{\"hovertemplate\":\"color=what<br>x=%{x}<br>y=%{y}<br>z=%{z}<extra></extra>\",\"legendgroup\":\"what\",\"marker\":{\"color\":\"#EF553B\",\"symbol\":\"circle\"},\"mode\":\"markers\",\"name\":\"what\",\"scene\":\"scene\",\"showlegend\":true,\"x\":[0.36888715624809265],\"y\":[-0.23487141728401184],\"z\":[0.03736506402492523],\"type\":\"scatter3d\"},{\"hovertemplate\":\"color=by<br>x=%{x}<br>y=%{y}<br>z=%{z}<extra></extra>\",\"legendgroup\":\"by\",\"marker\":{\"color\":\"#00cc96\",\"symbol\":\"circle\"},\"mode\":\"markers\",\"name\":\"by\",\"scene\":\"scene\",\"showlegend\":true,\"x\":[-0.02336977981030941],\"y\":[0.06792782247066498],\"z\":[0.0772799402475357],\"type\":\"scatter3d\"},{\"hovertemplate\":\"color=did<br>x=%{x}<br>y=%{y}<br>z=%{z}<extra></extra>\",\"legendgroup\":\"did\",\"marker\":{\"color\":\"#ab63fa\",\"symbol\":\"circle\"},\"mode\":\"markers\",\"name\":\"did\",\"scene\":\"scene\",\"showlegend\":true,\"x\":[0.4106360077857971],\"y\":[0.15165193378925323],\"z\":[-0.10872617363929749],\"type\":\"scatter3d\"},{\"hovertemplate\":\"color=king<br>x=%{x}<br>y=%{y}<br>z=%{z}<extra></extra>\",\"legendgroup\":\"king\",\"marker\":{\"color\":\"#FFA15A\",\"symbol\":\"circle\"},\"mode\":\"markers\",\"name\":\"king\",\"scene\":\"scene\",\"showlegend\":true,\"x\":[0.35059478878974915],\"y\":[-0.17172814905643463],\"z\":[-0.0013275883393362164],\"type\":\"scatter3d\"},{\"hovertemplate\":\"color=do<br>x=%{x}<br>y=%{y}<br>z=%{z}<extra></extra>\",\"legendgroup\":\"do\",\"marker\":{\"color\":\"#19d3f3\",\"symbol\":\"circle\"},\"mode\":\"markers\",\"name\":\"do\",\"scene\":\"scene\",\"showlegend\":true,\"x\":[0.5938946604728699],\"y\":[0.010704333893954754],\"z\":[-0.19325825572013855],\"type\":\"scatter3d\"},{\"hovertemplate\":\"color=men<br>x=%{x}<br>y=%{y}<br>z=%{z}<extra></extra>\",\"legendgroup\":\"men\",\"marker\":{\"color\":\"#FF6692\",\"symbol\":\"circle\"},\"mode\":\"markers\",\"name\":\"men\",\"scene\":\"scene\",\"showlegend\":true,\"x\":[-0.019088545814156532],\"y\":[-0.4390723407268524],\"z\":[-0.15528616309165955],\"type\":\"scatter3d\"},{\"hovertemplate\":\"color=back<br>x=%{x}<br>y=%{y}<br>z=%{z}<extra></extra>\",\"legendgroup\":\"back\",\"marker\":{\"color\":\"#B6E880\",\"symbol\":\"circle\"},\"mode\":\"markers\",\"name\":\"back\",\"scene\":\"scene\",\"showlegend\":true,\"x\":[-0.20116667449474335],\"y\":[0.008179454132914543],\"z\":[0.0627252459526062],\"type\":\"scatter3d\"},{\"hovertemplate\":\"color=out<br>x=%{x}<br>y=%{y}<br>z=%{z}<extra></extra>\",\"legendgroup\":\"out\",\"marker\":{\"color\":\"#FF97FF\",\"symbol\":\"circle\"},\"mode\":\"markers\",\"name\":\"out\",\"scene\":\"scene\",\"showlegend\":true,\"x\":[-0.16010092198848724],\"y\":[-0.03625093400478363],\"z\":[0.09908900409936905],\"type\":\"scatter3d\"},{\"hovertemplate\":\"color=more<br>x=%{x}<br>y=%{y}<br>z=%{z}<extra></extra>\",\"legendgroup\":\"more\",\"marker\":{\"color\":\"#FECB52\",\"symbol\":\"circle\"},\"mode\":\"markers\",\"name\":\"more\",\"scene\":\"scene\",\"showlegend\":true,\"x\":[0.1849730908870697],\"y\":[-0.18454356491565704],\"z\":[-0.06975468248128891],\"type\":\"scatter3d\"},{\"hovertemplate\":\"color=or<br>x=%{x}<br>y=%{y}<br>z=%{z}<extra></extra>\",\"legendgroup\":\"or\",\"marker\":{\"color\":\"#636efa\",\"symbol\":\"circle\"},\"mode\":\"markers\",\"name\":\"or\",\"scene\":\"scene\",\"showlegend\":true,\"x\":[0.34286147356033325],\"y\":[-0.09316043555736542],\"z\":[-0.1565011739730835],\"type\":\"scatter3d\"},{\"hovertemplate\":\"color=who<br>x=%{x}<br>y=%{y}<br>z=%{z}<extra></extra>\",\"legendgroup\":\"who\",\"marker\":{\"color\":\"#EF553B\",\"symbol\":\"circle\"},\"mode\":\"markers\",\"name\":\"who\",\"scene\":\"scene\",\"showlegend\":true,\"x\":[0.3222062289714813],\"y\":[-0.3313102126121521],\"z\":[0.20409367978572845],\"type\":\"scatter3d\"},{\"hovertemplate\":\"color=down<br>x=%{x}<br>y=%{y}<br>z=%{z}<extra></extra>\",\"legendgroup\":\"down\",\"marker\":{\"color\":\"#00cc96\",\"symbol\":\"circle\"},\"mode\":\"markers\",\"name\":\"down\",\"scene\":\"scene\",\"showlegend\":true,\"x\":[-0.3569147288799286],\"y\":[-0.014507018029689789],\"z\":[0.0734812319278717],\"type\":\"scatter3d\"},{\"hovertemplate\":\"color=well<br>x=%{x}<br>y=%{y}<br>z=%{z}<extra></extra>\",\"legendgroup\":\"well\",\"marker\":{\"color\":\"#ab63fa\",\"symbol\":\"circle\"},\"mode\":\"markers\",\"name\":\"well\",\"scene\":\"scene\",\"showlegend\":true,\"x\":[0.280963271856308],\"y\":[-0.05978575348854065],\"z\":[-0.00557431485503912],\"type\":\"scatter3d\"},{\"hovertemplate\":\"color=than<br>x=%{x}<br>y=%{y}<br>z=%{z}<extra></extra>\",\"legendgroup\":\"than\",\"marker\":{\"color\":\"#FFA15A\",\"symbol\":\"circle\"},\"mode\":\"markers\",\"name\":\"than\",\"scene\":\"scene\",\"showlegend\":true,\"x\":[0.18136291205883026],\"y\":[0.03659462928771973],\"z\":[-0.05714600160717964],\"type\":\"scatter3d\"},{\"hovertemplate\":\"color=only<br>x=%{x}<br>y=%{y}<br>z=%{z}<extra></extra>\",\"legendgroup\":\"only\",\"marker\":{\"color\":\"#19d3f3\",\"symbol\":\"circle\"},\"mode\":\"markers\",\"name\":\"only\",\"scene\":\"scene\",\"showlegend\":true,\"x\":[0.267021119594574],\"y\":[-0.046147458255290985],\"z\":[-0.017027318477630615],\"type\":\"scatter3d\"},{\"hovertemplate\":\"color=jon<br>x=%{x}<br>y=%{y}<br>z=%{z}<extra></extra>\",\"legendgroup\":\"jon\",\"marker\":{\"color\":\"#FF6692\",\"symbol\":\"circle\"},\"mode\":\"markers\",\"name\":\"jon\",\"scene\":\"scene\",\"showlegend\":true,\"x\":[0.012672959826886654],\"y\":[-0.22049200534820557],\"z\":[0.30981311202049255],\"type\":\"scatter3d\"},{\"hovertemplate\":\"color=like<br>x=%{x}<br>y=%{y}<br>z=%{z}<extra></extra>\",\"legendgroup\":\"like\",\"marker\":{\"color\":\"#B6E880\",\"symbol\":\"circle\"},\"mode\":\"markers\",\"name\":\"like\",\"scene\":\"scene\",\"showlegend\":true,\"x\":[0.05508456006646156],\"y\":[0.2181534320116043],\"z\":[-0.017000295221805573],\"type\":\"scatter3d\"},{\"hovertemplate\":\"color=some<br>x=%{x}<br>y=%{y}<br>z=%{z}<extra></extra>\",\"legendgroup\":\"some\",\"marker\":{\"color\":\"#FF97FF\",\"symbol\":\"circle\"},\"mode\":\"markers\",\"name\":\"some\",\"scene\":\"scene\",\"showlegend\":true,\"x\":[0.11059030890464783],\"y\":[-0.22753672301769257],\"z\":[0.04275791719555855],\"type\":\"scatter3d\"},{\"hovertemplate\":\"color=father<br>x=%{x}<br>y=%{y}<br>z=%{z}<extra></extra>\",\"legendgroup\":\"father\",\"marker\":{\"color\":\"#FECB52\",\"symbol\":\"circle\"},\"mode\":\"markers\",\"name\":\"father\",\"scene\":\"scene\",\"showlegend\":true,\"x\":[0.3924407660961151],\"y\":[-0.24477219581604004],\"z\":[0.008525503799319267],\"type\":\"scatter3d\"},{\"hovertemplate\":\"color=old<br>x=%{x}<br>y=%{y}<br>z=%{z}<extra></extra>\",\"legendgroup\":\"old\",\"marker\":{\"color\":\"#636efa\",\"symbol\":\"circle\"},\"mode\":\"markers\",\"name\":\"old\",\"scene\":\"scene\",\"showlegend\":true,\"x\":[0.15635362267494202],\"y\":[-0.015839001163840294],\"z\":[0.20125539600849152],\"type\":\"scatter3d\"},{\"hovertemplate\":\"color=hand<br>x=%{x}<br>y=%{y}<br>z=%{z}<extra></extra>\",\"legendgroup\":\"hand\",\"marker\":{\"color\":\"#EF553B\",\"symbol\":\"circle\"},\"mode\":\"markers\",\"name\":\"hand\",\"scene\":\"scene\",\"showlegend\":true,\"x\":[-0.08192864805459976],\"y\":[-0.04719226807355881],\"z\":[0.07149659842252731],\"type\":\"scatter3d\"},{\"hovertemplate\":\"color=tyrion<br>x=%{x}<br>y=%{y}<br>z=%{z}<extra></extra>\",\"legendgroup\":\"tyrion\",\"marker\":{\"color\":\"#00cc96\",\"symbol\":\"circle\"},\"mode\":\"markers\",\"name\":\"tyrion\",\"scene\":\"scene\",\"showlegend\":true,\"x\":[0.11698570847511292],\"y\":[-0.2404019832611084],\"z\":[0.28542736172676086],\"type\":\"scatter3d\"},{\"hovertemplate\":\"color=even<br>x=%{x}<br>y=%{y}<br>z=%{z}<extra></extra>\",\"legendgroup\":\"even\",\"marker\":{\"color\":\"#ab63fa\",\"symbol\":\"circle\"},\"mode\":\"markers\",\"name\":\"even\",\"scene\":\"scene\",\"showlegend\":true,\"x\":[0.16608473658561707],\"y\":[-0.06438785046339035],\"z\":[-0.12062627822160721],\"type\":\"scatter3d\"},{\"hovertemplate\":\"color=too<br>x=%{x}<br>y=%{y}<br>z=%{z}<extra></extra>\",\"legendgroup\":\"too\",\"marker\":{\"color\":\"#FFA15A\",\"symbol\":\"circle\"},\"mode\":\"markers\",\"name\":\"too\",\"scene\":\"scene\",\"showlegend\":true,\"x\":[0.17545084655284882],\"y\":[-0.07376524806022644],\"z\":[0.06694739311933517],\"type\":\"scatter3d\"},{\"hovertemplate\":\"color=before<br>x=%{x}<br>y=%{y}<br>z=%{z}<extra></extra>\",\"legendgroup\":\"before\",\"marker\":{\"color\":\"#19d3f3\",\"symbol\":\"circle\"},\"mode\":\"markers\",\"name\":\"before\",\"scene\":\"scene\",\"showlegend\":true,\"x\":[0.06070953607559204],\"y\":[-0.0005126048345118761],\"z\":[0.045889712870121],\"type\":\"scatter3d\"},{\"hovertemplate\":\"color=never<br>x=%{x}<br>y=%{y}<br>z=%{z}<extra></extra>\",\"legendgroup\":\"never\",\"marker\":{\"color\":\"#FF6692\",\"symbol\":\"circle\"},\"mode\":\"markers\",\"name\":\"never\",\"scene\":\"scene\",\"showlegend\":true,\"x\":[0.35596439242362976],\"y\":[-0.2423572838306427],\"z\":[0.07191666960716248],\"type\":\"scatter3d\"},{\"hovertemplate\":\"color=an<br>x=%{x}<br>y=%{y}<br>z=%{z}<extra></extra>\",\"legendgroup\":\"an\",\"marker\":{\"color\":\"#B6E880\",\"symbol\":\"circle\"},\"mode\":\"markers\",\"name\":\"an\",\"scene\":\"scene\",\"showlegend\":true,\"x\":[0.07388001680374146],\"y\":[-0.011167488992214203],\"z\":[0.18469029664993286],\"type\":\"scatter3d\"},{\"hovertemplate\":\"color=off<br>x=%{x}<br>y=%{y}<br>z=%{z}<extra></extra>\",\"legendgroup\":\"off\",\"marker\":{\"color\":\"#FF97FF\",\"symbol\":\"circle\"},\"mode\":\"markers\",\"name\":\"off\",\"scene\":\"scene\",\"showlegend\":true,\"x\":[-0.14722445607185364],\"y\":[0.06987045705318451],\"z\":[0.1658317744731903],\"type\":\"scatter3d\"},{\"hovertemplate\":\"color=see<br>x=%{x}<br>y=%{y}<br>z=%{z}<extra></extra>\",\"legendgroup\":\"see\",\"marker\":{\"color\":\"#FECB52\",\"symbol\":\"circle\"},\"mode\":\"markers\",\"name\":\"see\",\"scene\":\"scene\",\"showlegend\":true,\"x\":[0.20906351506710052],\"y\":[0.2038942575454712],\"z\":[-0.2486225813627243],\"type\":\"scatter3d\"},{\"hovertemplate\":\"color=know<br>x=%{x}<br>y=%{y}<br>z=%{z}<extra></extra>\",\"legendgroup\":\"know\",\"marker\":{\"color\":\"#636efa\",\"symbol\":\"circle\"},\"mode\":\"markers\",\"name\":\"know\",\"scene\":\"scene\",\"showlegend\":true,\"x\":[0.5672768354415894],\"y\":[0.07824771106243134],\"z\":[-0.20146265625953674],\"type\":\"scatter3d\"},{\"hovertemplate\":\"color=into<br>x=%{x}<br>y=%{y}<br>z=%{z}<extra></extra>\",\"legendgroup\":\"into\",\"marker\":{\"color\":\"#EF553B\",\"symbol\":\"circle\"},\"mode\":\"markers\",\"name\":\"into\",\"scene\":\"scene\",\"showlegend\":true,\"x\":[-0.21853919327259064],\"y\":[0.19128228724002838],\"z\":[0.0589175820350647],\"type\":\"scatter3d\"},{\"hovertemplate\":\"color=made<br>x=%{x}<br>y=%{y}<br>z=%{z}<extra></extra>\",\"legendgroup\":\"made\",\"marker\":{\"color\":\"#00cc96\",\"symbol\":\"circle\"},\"mode\":\"markers\",\"name\":\"made\",\"scene\":\"scene\",\"showlegend\":true,\"x\":[0.10261039435863495],\"y\":[0.47144031524658203],\"z\":[-0.1347380429506302],\"type\":\"scatter3d\"},{\"hovertemplate\":\"color=now<br>x=%{x}<br>y=%{y}<br>z=%{z}<extra></extra>\",\"legendgroup\":\"now\",\"marker\":{\"color\":\"#ab63fa\",\"symbol\":\"circle\"},\"mode\":\"markers\",\"name\":\"now\",\"scene\":\"scene\",\"showlegend\":true,\"x\":[0.3393561542034149],\"y\":[-0.1200902909040451],\"z\":[-0.08538752794265747],\"type\":\"scatter3d\"},{\"hovertemplate\":\"color=eyes<br>x=%{x}<br>y=%{y}<br>z=%{z}<extra></extra>\",\"legendgroup\":\"eyes\",\"marker\":{\"color\":\"#FFA15A\",\"symbol\":\"circle\"},\"mode\":\"markers\",\"name\":\"eyes\",\"scene\":\"scene\",\"showlegend\":true,\"x\":[-0.22951576113700867],\"y\":[-0.019482305273413658],\"z\":[-0.03499225899577141],\"type\":\"scatter3d\"},{\"hovertemplate\":\"color=black<br>x=%{x}<br>y=%{y}<br>z=%{z}<extra></extra>\",\"legendgroup\":\"black\",\"marker\":{\"color\":\"#19d3f3\",\"symbol\":\"circle\"},\"mode\":\"markers\",\"name\":\"black\",\"scene\":\"scene\",\"showlegend\":true,\"x\":[-0.34455981850624084],\"y\":[0.035107433795928955],\"z\":[0.12346547096967697],\"type\":\"scatter3d\"},{\"hovertemplate\":\"color=told<br>x=%{x}<br>y=%{y}<br>z=%{z}<extra></extra>\",\"legendgroup\":\"told\",\"marker\":{\"color\":\"#FF6692\",\"symbol\":\"circle\"},\"mode\":\"markers\",\"name\":\"told\",\"scene\":\"scene\",\"showlegend\":true,\"x\":[0.47378042340278625],\"y\":[0.47774723172187805],\"z\":[-0.19316183030605316],\"type\":\"scatter3d\"},{\"hovertemplate\":\"color=lady<br>x=%{x}<br>y=%{y}<br>z=%{z}<extra></extra>\",\"legendgroup\":\"lady\",\"marker\":{\"color\":\"#B6E880\",\"symbol\":\"circle\"},\"mode\":\"markers\",\"name\":\"lady\",\"scene\":\"scene\",\"showlegend\":true,\"x\":[0.3833545446395874],\"y\":[-0.06615806370973587],\"z\":[0.14843232929706573],\"type\":\"scatter3d\"},{\"hovertemplate\":\"color=thought<br>x=%{x}<br>y=%{y}<br>z=%{z}<extra></extra>\",\"legendgroup\":\"thought\",\"marker\":{\"color\":\"#FF97FF\",\"symbol\":\"circle\"},\"mode\":\"markers\",\"name\":\"thought\",\"scene\":\"scene\",\"showlegend\":true,\"x\":[0.3540709316730499],\"y\":[0.3411581218242645],\"z\":[-0.2867177426815033],\"type\":\"scatter3d\"},{\"hovertemplate\":\"color=time<br>x=%{x}<br>y=%{y}<br>z=%{z}<extra></extra>\",\"legendgroup\":\"time\",\"marker\":{\"color\":\"#FECB52\",\"symbol\":\"circle\"},\"mode\":\"markers\",\"name\":\"time\",\"scene\":\"scene\",\"showlegend\":true,\"x\":[0.02736743912100792],\"y\":[-0.1635930985212326],\"z\":[-0.1083516925573349],\"type\":\"scatter3d\"},{\"hovertemplate\":\"color=then<br>x=%{x}<br>y=%{y}<br>z=%{z}<extra></extra>\",\"legendgroup\":\"then\",\"marker\":{\"color\":\"#636efa\",\"symbol\":\"circle\"},\"mode\":\"markers\",\"name\":\"then\",\"scene\":\"scene\",\"showlegend\":true,\"x\":[-0.11121542006731033],\"y\":[-0.04133191332221031],\"z\":[0.10692889988422394],\"type\":\"scatter3d\"},{\"hovertemplate\":\"color=how<br>x=%{x}<br>y=%{y}<br>z=%{z}<extra></extra>\",\"legendgroup\":\"how\",\"marker\":{\"color\":\"#EF553B\",\"symbol\":\"circle\"},\"mode\":\"markers\",\"name\":\"how\",\"scene\":\"scene\",\"showlegend\":true,\"x\":[0.2952767610549927],\"y\":[-0.18663336336612701],\"z\":[0.03851551562547684],\"type\":\"scatter3d\"},{\"hovertemplate\":\"color=long<br>x=%{x}<br>y=%{y}<br>z=%{z}<extra></extra>\",\"legendgroup\":\"long\",\"marker\":{\"color\":\"#00cc96\",\"symbol\":\"circle\"},\"mode\":\"markers\",\"name\":\"long\",\"scene\":\"scene\",\"showlegend\":true,\"x\":[-0.0948541909456253],\"y\":[0.0023156905081123114],\"z\":[0.05499757081270218],\"type\":\"scatter3d\"},{\"hovertemplate\":\"color=has<br>x=%{x}<br>y=%{y}<br>z=%{z}<extra></extra>\",\"legendgroup\":\"has\",\"marker\":{\"color\":\"#ab63fa\",\"symbol\":\"circle\"},\"mode\":\"markers\",\"name\":\"has\",\"scene\":\"scene\",\"showlegend\":true,\"x\":[0.4635477066040039],\"y\":[-0.035179466009140015],\"z\":[-0.08525068312883377],\"type\":\"scatter3d\"},{\"hovertemplate\":\"color=can<br>x=%{x}<br>y=%{y}<br>z=%{z}<extra></extra>\",\"legendgroup\":\"can\",\"marker\":{\"color\":\"#FFA15A\",\"symbol\":\"circle\"},\"mode\":\"markers\",\"name\":\"can\",\"scene\":\"scene\",\"showlegend\":true,\"x\":[0.3741413950920105],\"y\":[0.04414001479744911],\"z\":[-0.12954267859458923],\"type\":\"scatter3d\"},{\"hovertemplate\":\"color=might<br>x=%{x}<br>y=%{y}<br>z=%{z}<extra></extra>\",\"legendgroup\":\"might\",\"marker\":{\"color\":\"#19d3f3\",\"symbol\":\"circle\"},\"mode\":\"markers\",\"name\":\"might\",\"scene\":\"scene\",\"showlegend\":true,\"x\":[0.3260142207145691],\"y\":[-0.027736401185393333],\"z\":[-0.09213333576917648],\"type\":\"scatter3d\"},{\"hovertemplate\":\"color=us<br>x=%{x}<br>y=%{y}<br>z=%{z}<extra></extra>\",\"legendgroup\":\"us\",\"marker\":{\"color\":\"#FF6692\",\"symbol\":\"circle\"},\"mode\":\"markers\",\"name\":\"us\",\"scene\":\"scene\",\"showlegend\":true,\"x\":[0.328372985124588],\"y\":[-0.3894108831882477],\"z\":[-0.15724025666713715],\"type\":\"scatter3d\"},{\"hovertemplate\":\"color=come<br>x=%{x}<br>y=%{y}<br>z=%{z}<extra></extra>\",\"legendgroup\":\"come\",\"marker\":{\"color\":\"#B6E880\",\"symbol\":\"circle\"},\"mode\":\"markers\",\"name\":\"come\",\"scene\":\"scene\",\"showlegend\":true,\"x\":[0.24904750287532806],\"y\":[0.10501085966825485],\"z\":[-0.32823267579078674],\"type\":\"scatter3d\"},{\"hovertemplate\":\"color=where<br>x=%{x}<br>y=%{y}<br>z=%{z}<extra></extra>\",\"legendgroup\":\"where\",\"marker\":{\"color\":\"#FF97FF\",\"symbol\":\"circle\"},\"mode\":\"markers\",\"name\":\"where\",\"scene\":\"scene\",\"showlegend\":true,\"x\":[-0.08819381892681122],\"y\":[-0.09483680874109268],\"z\":[0.038238514214754105],\"type\":\"scatter3d\"}],                        {\"template\":{\"data\":{\"histogram2dcontour\":[{\"type\":\"histogram2dcontour\",\"colorbar\":{\"outlinewidth\":0,\"ticks\":\"\"},\"colorscale\":[[0.0,\"#0d0887\"],[0.1111111111111111,\"#46039f\"],[0.2222222222222222,\"#7201a8\"],[0.3333333333333333,\"#9c179e\"],[0.4444444444444444,\"#bd3786\"],[0.5555555555555556,\"#d8576b\"],[0.6666666666666666,\"#ed7953\"],[0.7777777777777778,\"#fb9f3a\"],[0.8888888888888888,\"#fdca26\"],[1.0,\"#f0f921\"]]}],\"choropleth\":[{\"type\":\"choropleth\",\"colorbar\":{\"outlinewidth\":0,\"ticks\":\"\"}}],\"histogram2d\":[{\"type\":\"histogram2d\",\"colorbar\":{\"outlinewidth\":0,\"ticks\":\"\"},\"colorscale\":[[0.0,\"#0d0887\"],[0.1111111111111111,\"#46039f\"],[0.2222222222222222,\"#7201a8\"],[0.3333333333333333,\"#9c179e\"],[0.4444444444444444,\"#bd3786\"],[0.5555555555555556,\"#d8576b\"],[0.6666666666666666,\"#ed7953\"],[0.7777777777777778,\"#fb9f3a\"],[0.8888888888888888,\"#fdca26\"],[1.0,\"#f0f921\"]]}],\"heatmap\":[{\"type\":\"heatmap\",\"colorbar\":{\"outlinewidth\":0,\"ticks\":\"\"},\"colorscale\":[[0.0,\"#0d0887\"],[0.1111111111111111,\"#46039f\"],[0.2222222222222222,\"#7201a8\"],[0.3333333333333333,\"#9c179e\"],[0.4444444444444444,\"#bd3786\"],[0.5555555555555556,\"#d8576b\"],[0.6666666666666666,\"#ed7953\"],[0.7777777777777778,\"#fb9f3a\"],[0.8888888888888888,\"#fdca26\"],[1.0,\"#f0f921\"]]}],\"heatmapgl\":[{\"type\":\"heatmapgl\",\"colorbar\":{\"outlinewidth\":0,\"ticks\":\"\"},\"colorscale\":[[0.0,\"#0d0887\"],[0.1111111111111111,\"#46039f\"],[0.2222222222222222,\"#7201a8\"],[0.3333333333333333,\"#9c179e\"],[0.4444444444444444,\"#bd3786\"],[0.5555555555555556,\"#d8576b\"],[0.6666666666666666,\"#ed7953\"],[0.7777777777777778,\"#fb9f3a\"],[0.8888888888888888,\"#fdca26\"],[1.0,\"#f0f921\"]]}],\"contourcarpet\":[{\"type\":\"contourcarpet\",\"colorbar\":{\"outlinewidth\":0,\"ticks\":\"\"}}],\"contour\":[{\"type\":\"contour\",\"colorbar\":{\"outlinewidth\":0,\"ticks\":\"\"},\"colorscale\":[[0.0,\"#0d0887\"],[0.1111111111111111,\"#46039f\"],[0.2222222222222222,\"#7201a8\"],[0.3333333333333333,\"#9c179e\"],[0.4444444444444444,\"#bd3786\"],[0.5555555555555556,\"#d8576b\"],[0.6666666666666666,\"#ed7953\"],[0.7777777777777778,\"#fb9f3a\"],[0.8888888888888888,\"#fdca26\"],[1.0,\"#f0f921\"]]}],\"surface\":[{\"type\":\"surface\",\"colorbar\":{\"outlinewidth\":0,\"ticks\":\"\"},\"colorscale\":[[0.0,\"#0d0887\"],[0.1111111111111111,\"#46039f\"],[0.2222222222222222,\"#7201a8\"],[0.3333333333333333,\"#9c179e\"],[0.4444444444444444,\"#bd3786\"],[0.5555555555555556,\"#d8576b\"],[0.6666666666666666,\"#ed7953\"],[0.7777777777777778,\"#fb9f3a\"],[0.8888888888888888,\"#fdca26\"],[1.0,\"#f0f921\"]]}],\"mesh3d\":[{\"type\":\"mesh3d\",\"colorbar\":{\"outlinewidth\":0,\"ticks\":\"\"}}],\"scatter\":[{\"fillpattern\":{\"fillmode\":\"overlay\",\"size\":10,\"solidity\":0.2},\"type\":\"scatter\"}],\"parcoords\":[{\"type\":\"parcoords\",\"line\":{\"colorbar\":{\"outlinewidth\":0,\"ticks\":\"\"}}}],\"scatterpolargl\":[{\"type\":\"scatterpolargl\",\"marker\":{\"colorbar\":{\"outlinewidth\":0,\"ticks\":\"\"}}}],\"bar\":[{\"error_x\":{\"color\":\"#2a3f5f\"},\"error_y\":{\"color\":\"#2a3f5f\"},\"marker\":{\"line\":{\"color\":\"#E5ECF6\",\"width\":0.5},\"pattern\":{\"fillmode\":\"overlay\",\"size\":10,\"solidity\":0.2}},\"type\":\"bar\"}],\"scattergeo\":[{\"type\":\"scattergeo\",\"marker\":{\"colorbar\":{\"outlinewidth\":0,\"ticks\":\"\"}}}],\"scatterpolar\":[{\"type\":\"scatterpolar\",\"marker\":{\"colorbar\":{\"outlinewidth\":0,\"ticks\":\"\"}}}],\"histogram\":[{\"marker\":{\"pattern\":{\"fillmode\":\"overlay\",\"size\":10,\"solidity\":0.2}},\"type\":\"histogram\"}],\"scattergl\":[{\"type\":\"scattergl\",\"marker\":{\"colorbar\":{\"outlinewidth\":0,\"ticks\":\"\"}}}],\"scatter3d\":[{\"type\":\"scatter3d\",\"line\":{\"colorbar\":{\"outlinewidth\":0,\"ticks\":\"\"}},\"marker\":{\"colorbar\":{\"outlinewidth\":0,\"ticks\":\"\"}}}],\"scattermapbox\":[{\"type\":\"scattermapbox\",\"marker\":{\"colorbar\":{\"outlinewidth\":0,\"ticks\":\"\"}}}],\"scatterternary\":[{\"type\":\"scatterternary\",\"marker\":{\"colorbar\":{\"outlinewidth\":0,\"ticks\":\"\"}}}],\"scattercarpet\":[{\"type\":\"scattercarpet\",\"marker\":{\"colorbar\":{\"outlinewidth\":0,\"ticks\":\"\"}}}],\"carpet\":[{\"aaxis\":{\"endlinecolor\":\"#2a3f5f\",\"gridcolor\":\"white\",\"linecolor\":\"white\",\"minorgridcolor\":\"white\",\"startlinecolor\":\"#2a3f5f\"},\"baxis\":{\"endlinecolor\":\"#2a3f5f\",\"gridcolor\":\"white\",\"linecolor\":\"white\",\"minorgridcolor\":\"white\",\"startlinecolor\":\"#2a3f5f\"},\"type\":\"carpet\"}],\"table\":[{\"cells\":{\"fill\":{\"color\":\"#EBF0F8\"},\"line\":{\"color\":\"white\"}},\"header\":{\"fill\":{\"color\":\"#C8D4E3\"},\"line\":{\"color\":\"white\"}},\"type\":\"table\"}],\"barpolar\":[{\"marker\":{\"line\":{\"color\":\"#E5ECF6\",\"width\":0.5},\"pattern\":{\"fillmode\":\"overlay\",\"size\":10,\"solidity\":0.2}},\"type\":\"barpolar\"}],\"pie\":[{\"automargin\":true,\"type\":\"pie\"}]},\"layout\":{\"autotypenumbers\":\"strict\",\"colorway\":[\"#636efa\",\"#EF553B\",\"#00cc96\",\"#ab63fa\",\"#FFA15A\",\"#19d3f3\",\"#FF6692\",\"#B6E880\",\"#FF97FF\",\"#FECB52\"],\"font\":{\"color\":\"#2a3f5f\"},\"hovermode\":\"closest\",\"hoverlabel\":{\"align\":\"left\"},\"paper_bgcolor\":\"white\",\"plot_bgcolor\":\"#E5ECF6\",\"polar\":{\"bgcolor\":\"#E5ECF6\",\"angularaxis\":{\"gridcolor\":\"white\",\"linecolor\":\"white\",\"ticks\":\"\"},\"radialaxis\":{\"gridcolor\":\"white\",\"linecolor\":\"white\",\"ticks\":\"\"}},\"ternary\":{\"bgcolor\":\"#E5ECF6\",\"aaxis\":{\"gridcolor\":\"white\",\"linecolor\":\"white\",\"ticks\":\"\"},\"baxis\":{\"gridcolor\":\"white\",\"linecolor\":\"white\",\"ticks\":\"\"},\"caxis\":{\"gridcolor\":\"white\",\"linecolor\":\"white\",\"ticks\":\"\"}},\"coloraxis\":{\"colorbar\":{\"outlinewidth\":0,\"ticks\":\"\"}},\"colorscale\":{\"sequential\":[[0.0,\"#0d0887\"],[0.1111111111111111,\"#46039f\"],[0.2222222222222222,\"#7201a8\"],[0.3333333333333333,\"#9c179e\"],[0.4444444444444444,\"#bd3786\"],[0.5555555555555556,\"#d8576b\"],[0.6666666666666666,\"#ed7953\"],[0.7777777777777778,\"#fb9f3a\"],[0.8888888888888888,\"#fdca26\"],[1.0,\"#f0f921\"]],\"sequentialminus\":[[0.0,\"#0d0887\"],[0.1111111111111111,\"#46039f\"],[0.2222222222222222,\"#7201a8\"],[0.3333333333333333,\"#9c179e\"],[0.4444444444444444,\"#bd3786\"],[0.5555555555555556,\"#d8576b\"],[0.6666666666666666,\"#ed7953\"],[0.7777777777777778,\"#fb9f3a\"],[0.8888888888888888,\"#fdca26\"],[1.0,\"#f0f921\"]],\"diverging\":[[0,\"#8e0152\"],[0.1,\"#c51b7d\"],[0.2,\"#de77ae\"],[0.3,\"#f1b6da\"],[0.4,\"#fde0ef\"],[0.5,\"#f7f7f7\"],[0.6,\"#e6f5d0\"],[0.7,\"#b8e186\"],[0.8,\"#7fbc41\"],[0.9,\"#4d9221\"],[1,\"#276419\"]]},\"xaxis\":{\"gridcolor\":\"white\",\"linecolor\":\"white\",\"ticks\":\"\",\"title\":{\"standoff\":15},\"zerolinecolor\":\"white\",\"automargin\":true,\"zerolinewidth\":2},\"yaxis\":{\"gridcolor\":\"white\",\"linecolor\":\"white\",\"ticks\":\"\",\"title\":{\"standoff\":15},\"zerolinecolor\":\"white\",\"automargin\":true,\"zerolinewidth\":2},\"scene\":{\"xaxis\":{\"backgroundcolor\":\"#E5ECF6\",\"gridcolor\":\"white\",\"linecolor\":\"white\",\"showbackground\":true,\"ticks\":\"\",\"zerolinecolor\":\"white\",\"gridwidth\":2},\"yaxis\":{\"backgroundcolor\":\"#E5ECF6\",\"gridcolor\":\"white\",\"linecolor\":\"white\",\"showbackground\":true,\"ticks\":\"\",\"zerolinecolor\":\"white\",\"gridwidth\":2},\"zaxis\":{\"backgroundcolor\":\"#E5ECF6\",\"gridcolor\":\"white\",\"linecolor\":\"white\",\"showbackground\":true,\"ticks\":\"\",\"zerolinecolor\":\"white\",\"gridwidth\":2}},\"shapedefaults\":{\"line\":{\"color\":\"#2a3f5f\"}},\"annotationdefaults\":{\"arrowcolor\":\"#2a3f5f\",\"arrowhead\":0,\"arrowwidth\":1},\"geo\":{\"bgcolor\":\"white\",\"landcolor\":\"#E5ECF6\",\"subunitcolor\":\"white\",\"showland\":true,\"showlakes\":true,\"lakecolor\":\"white\"},\"title\":{\"x\":0.05},\"mapbox\":{\"style\":\"light\"}}},\"scene\":{\"domain\":{\"x\":[0.0,1.0],\"y\":[0.0,1.0]},\"xaxis\":{\"title\":{\"text\":\"x\"}},\"yaxis\":{\"title\":{\"text\":\"y\"}},\"zaxis\":{\"title\":{\"text\":\"z\"}}},\"legend\":{\"title\":{\"text\":\"color\"},\"tracegroupgap\":0},\"margin\":{\"t\":60}},                        {\"responsive\": true}                    ).then(function(){\n",
       "                            \n",
       "var gd = document.getElementById('875efc99-c7ab-49ab-bd8a-3ccb8c6ef0ca');\n",
       "var x = new MutationObserver(function (mutations, observer) {{\n",
       "        var display = window.getComputedStyle(gd).display;\n",
       "        if (!display || display === 'none') {{\n",
       "            console.log([gd, 'removed!']);\n",
       "            Plotly.purge(gd);\n",
       "            observer.disconnect();\n",
       "        }}\n",
       "}});\n",
       "\n",
       "// Listen for the removal of the full notebook cells\n",
       "var notebookContainer = gd.closest('#notebook-container');\n",
       "if (notebookContainer) {{\n",
       "    x.observe(notebookContainer, {childList: true});\n",
       "}}\n",
       "\n",
       "// Listen for the clearing of the current output cell\n",
       "var outputEl = gd.closest('.output');\n",
       "if (outputEl) {{\n",
       "    x.observe(outputEl, {childList: true});\n",
       "}}\n",
       "\n",
       "                        })                };                });            </script>        </div>"
      ]
     },
     "metadata": {},
     "output_type": "display_data"
    }
   ],
   "source": [
    "diag = px.scatter_3d(x = arr[1:100,0] , y = arr[1:100,1] , z = arr[1:100,2] , color=keys[1:100])\n",
    "diag.show()"
   ]
  },
  {
   "cell_type": "code",
   "execution_count": 98,
   "id": "33378a18",
   "metadata": {},
   "outputs": [],
   "source": [
    "from tqdm import tqdm"
   ]
  },
  {
   "cell_type": "code",
   "execution_count": null,
   "id": "25f07670",
   "metadata": {},
   "outputs": [],
   "source": []
  },
  {
   "cell_type": "code",
   "execution_count": null,
   "id": "cdba8a41",
   "metadata": {},
   "outputs": [],
   "source": []
  },
  {
   "cell_type": "code",
   "execution_count": null,
   "id": "5ff02409",
   "metadata": {},
   "outputs": [],
   "source": []
  }
 ],
 "metadata": {
  "kernelspec": {
   "display_name": "Python 3 (ipykernel)",
   "language": "python",
   "name": "python3"
  },
  "language_info": {
   "codemirror_mode": {
    "name": "ipython",
    "version": 3
   },
   "file_extension": ".py",
   "mimetype": "text/x-python",
   "name": "python",
   "nbconvert_exporter": "python",
   "pygments_lexer": "ipython3",
   "version": "3.11.5"
  }
 },
 "nbformat": 4,
 "nbformat_minor": 5
}
